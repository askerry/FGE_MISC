{
 "metadata": {
  "name": "",
  "signature": "sha256:0d3f50ed6b3e3b0b77589d1875597b92af14a8a57f11a8434790ff2416d2f24b"
 },
 "nbformat": 3,
 "nbformat_minor": 0,
 "worksheets": [
  {
   "cells": [
    {
     "cell_type": "code",
     "collapsed": false,
     "input": [
      "pylab inline"
     ],
     "language": "python",
     "metadata": {},
     "outputs": [
      {
       "output_type": "stream",
       "stream": "stdout",
       "text": [
        "Populating the interactive namespace from numpy and matplotlib\n"
       ]
      }
     ],
     "prompt_number": 1
    },
    {
     "cell_type": "code",
     "collapsed": false,
     "input": [
      "import sys\n",
      "sys.path.append('/mindhive/saxelab/scripts/aesscripts/') #for mypymvpa\n",
      "import pyanal.RSA_funcs as rsaf\n",
      "import pandas as pd\n",
      "import pickle\n",
      "from sklearn.feature_extraction.text import CountVectorizer\n",
      "import collections\n",
      "import re\n",
      "import mypymvpa.utilities.visualization as viz"
     ],
     "language": "python",
     "metadata": {},
     "outputs": [],
     "prompt_number": 146
    },
    {
     "cell_type": "heading",
     "level": 2,
     "metadata": {},
     "source": [
      "Load file"
     ]
    },
    {
     "cell_type": "code",
     "collapsed": false,
     "input": [
      "rsamatrixfile='/mindhive/saxelab2/FGE/stimdata/RSAmatrixinfo.pkl'\n",
      "stimfile='/mindhive/saxelab2/FGE/stimdata/FGE_stims.csv'\n",
      "cosinesimfile='/mindhive/saxelab2/FGE/stimdata/cosinesimilarity.pkl'\n",
      "indexplicitsfile='/mindhive/saxelab2/FGE/stimdata/indexplicits.pkl'\n",
      "intensityfile='/mindhive/saxelab2/FGE/stimdata/intensityratings.pkl'\n",
      "svmerrorfile='/mindhive/saxelab2/FGE/stimdata/svmerrors.pkl'\n",
      "cohmetrixfile='/mindhive/saxelab2/FGE/stimdata/FGE_stims_cohmetrix.csv'"
     ],
     "language": "python",
     "metadata": {},
     "outputs": [],
     "prompt_number": 165
    },
    {
     "cell_type": "code",
     "collapsed": false,
     "input": [
      "with open(rsamatrixfile, 'r') as inputfile:\n",
      "    rsaobj = pickle.load(inputfile)"
     ],
     "language": "python",
     "metadata": {},
     "outputs": [],
     "prompt_number": 166
    },
    {
     "cell_type": "code",
     "collapsed": false,
     "input": [
      "df=pd.read_csv(stimfile, index_col=False)\n",
      "cohmetrixdf=pd.read_csv(cohmetrixfile, index_col=False)"
     ],
     "language": "python",
     "metadata": {},
     "outputs": [],
     "prompt_number": 167
    },
    {
     "cell_type": "code",
     "collapsed": false,
     "input": [
      "def qnum(num):\n",
      "    if num<=200:\n",
      "        qnum='q%s' % int(num)\n",
      "    else:\n",
      "        qnum=np.nan\n",
      "    return qnum\n",
      "df['qnum_str']=df.apply(lambda row: qnum(row.qnum), axis=1)\n",
      "cohmetrixdf['qnum_str']=cohmetrixdf.apply(lambda row: qnum(row.qnum), axis=1)"
     ],
     "language": "python",
     "metadata": {},
     "outputs": [],
     "prompt_number": 168
    },
    {
     "cell_type": "code",
     "collapsed": false,
     "input": [
      "df.head()"
     ],
     "language": "python",
     "metadata": {},
     "outputs": [
      {
       "html": [
        "<div style=\"max-height:1000px;max-width:1500px;overflow:auto;\">\n",
        "<table border=\"1\" class=\"dataframe\">\n",
        "  <thead>\n",
        "    <tr style=\"text-align: right;\">\n",
        "      <th></th>\n",
        "      <th>cond</th>\n",
        "      <th>stimname</th>\n",
        "      <th>stimnum</th>\n",
        "      <th>text</th>\n",
        "      <th>duration</th>\n",
        "      <th>qnum</th>\n",
        "      <th>qnum_str</th>\n",
        "    </tr>\n",
        "  </thead>\n",
        "  <tbody>\n",
        "    <tr>\n",
        "      <th>0</th>\n",
        "      <td> ANN</td>\n",
        "      <td> ANN_001</td>\n",
        "      <td> 1</td>\n",
        "      <td> NAMEVAR she did not know half the questions on...</td>\n",
        "      <td> 13</td>\n",
        "      <td> 1</td>\n",
        "      <td> q1</td>\n",
        "    </tr>\n",
        "    <tr>\n",
        "      <th>1</th>\n",
        "      <td> ANN</td>\n",
        "      <td> ANN_002</td>\n",
        "      <td> 2</td>\n",
        "      <td> NAMEVAR notified her boss 3 weeks in advance t...</td>\n",
        "      <td> 13</td>\n",
        "      <td> 2</td>\n",
        "      <td> q2</td>\n",
        "    </tr>\n",
        "    <tr>\n",
        "      <th>2</th>\n",
        "      <td> ANN</td>\n",
        "      <td> ANN_003</td>\n",
        "      <td> 3</td>\n",
        "      <td> NAMEVAR went to the library with some classmat...</td>\n",
        "      <td> 13</td>\n",
        "      <td> 3</td>\n",
        "      <td> q3</td>\n",
        "    </tr>\n",
        "    <tr>\n",
        "      <th>3</th>\n",
        "      <td> ANN</td>\n",
        "      <td> ANN_004</td>\n",
        "      <td> 4</td>\n",
        "      <td> NAMEVAR was on a train for six hours. She sat ...</td>\n",
        "      <td> 13</td>\n",
        "      <td> 4</td>\n",
        "      <td> q4</td>\n",
        "    </tr>\n",
        "    <tr>\n",
        "      <th>4</th>\n",
        "      <td> ANN</td>\n",
        "      <td> ANN_005</td>\n",
        "      <td> 5</td>\n",
        "      <td> NAMEVAR was rushing to grab a muffin before he...</td>\n",
        "      <td> 13</td>\n",
        "      <td> 5</td>\n",
        "      <td> q5</td>\n",
        "    </tr>\n",
        "  </tbody>\n",
        "</table>\n",
        "</div>"
       ],
       "metadata": {},
       "output_type": "pyout",
       "prompt_number": 102,
       "text": [
        "  cond stimname  stimnum                                               text  \\\n",
        "0  ANN  ANN_001        1  NAMEVAR she did not know half the questions on...   \n",
        "1  ANN  ANN_002        2  NAMEVAR notified her boss 3 weeks in advance t...   \n",
        "2  ANN  ANN_003        3  NAMEVAR went to the library with some classmat...   \n",
        "3  ANN  ANN_004        4  NAMEVAR was on a train for six hours. She sat ...   \n",
        "4  ANN  ANN_005        5  NAMEVAR was rushing to grab a muffin before he...   \n",
        "\n",
        "   duration  qnum qnum_str  \n",
        "0        13     1       q1  \n",
        "1        13     2       q2  \n",
        "2        13     3       q3  \n",
        "3        13     4       q4  \n",
        "4        13     5       q5  "
       ]
      }
     ],
     "prompt_number": 102
    },
    {
     "cell_type": "code",
     "collapsed": false,
     "input": [
      "def nandiagmatrix(matrix):\n",
      "    for eln,el in enumerate(matrix):\n",
      "        matrix[eln][eln]=np.nan\n",
      "    return matrix"
     ],
     "language": "python",
     "metadata": {},
     "outputs": [],
     "prompt_number": 282
    },
    {
     "cell_type": "code",
     "collapsed": false,
     "input": [
      "listofstrings=list(df.text)[0:200]\n",
      "itemlabels=list(df.qnum_str)[0:200]"
     ],
     "language": "python",
     "metadata": {},
     "outputs": [],
     "prompt_number": 18
    },
    {
     "cell_type": "heading",
     "level": 2,
     "metadata": {},
     "source": [
      "perform text analysis"
     ]
    },
    {
     "cell_type": "code",
     "collapsed": false,
     "input": [
      "#simplest bagofwords model\n",
      "def bagofwords(listofstrings):\n",
      "    vectorizer = CountVectorizer(min_df=1)\n",
      "    analyze = vectorizer.build_analyzer()\n",
      "    bagofwords=vectorizer.fit_transform(listofstrings)\n",
      "    features=vectorizer.get_feature_names()\n",
      "    bagofwords=bagofwords.toarray()\n",
      "    bagofwords=[list(line) for line in bagofwords]\n",
      "    return bagofwords,features\n",
      "bagofwordsmtx, features=bagofwords(listofstrings)\n",
      "rsaobj['bagofwords']={'itemavgs':bagofwordsmtx, 'itemlabels':itemlabels}"
     ],
     "language": "python",
     "metadata": {},
     "outputs": [],
     "prompt_number": 148
    },
    {
     "cell_type": "heading",
     "level": 2,
     "metadata": {},
     "source": [
      "smarter tf-idf based text similarity"
     ]
    },
    {
     "cell_type": "code",
     "collapsed": false,
     "input": [
      "import nltk\n",
      "#import nltk.pos_tag\n",
      "#import nltk.neg_tag\n",
      "from nltk.corpus import stopwords\n",
      "import string\n",
      "from nltk.stem.porter import PorterStemmer\n",
      "from sklearn.feature_extraction.text import TfidfVectorizer\n",
      "from sklearn.metrics.pairwise import linear_kernel\n",
      "\n",
      "def stem_tokens(tokens, stemmer):\n",
      "    stemmed = []\n",
      "    for item in tokens:\n",
      "        stemmed.append(stemmer.stem(item))\n",
      "    return stemmed\n",
      "\n",
      "def tokenize(text):\n",
      "    tokens = nltk.word_tokenize(text)\n",
      "    filtered=[w for w in tokens if not w in stopwords.words('english')]\n",
      "    stemmer = PorterStemmer()\n",
      "    stems = stem_tokens(filtered, stemmer)\n",
      "    return stems\n",
      "\n",
      "def singletextsimilarity(tfidf,index, listofstrings, printdeets=False):\n",
      "    cosine_similarities = linear_kernel(tfidf[index], tfidf).flatten()\n",
      "    if printdeets:\n",
      "        most_related_docs_indices = cosine_similarities.argsort()[:-5:-1]\n",
      "        most_related_similarities=cosine_similarities[most_related_docs_indices]\n",
      "        print \"docs most related to doc #%s are %s.\" %(index, ', '.join([str(el) for el in most_related_docs_indices]))\n",
      "        print \"there similarities are %s.\" %(', '.join([str(el) for el in most_related_similarities]))\n",
      "    return cosine_similarities\n",
      "\n",
      "def FGEcosinesimilarity(listofstrings):\n",
      "    tfidf = TfidfVectorizer(tokenizer=tokenize, stop_words='english')\n",
      "    tfs = tfidf.fit_transform(listofstrings)\n",
      "    simmatrix=[]\n",
      "    for ln,l in enumerate(listofstrings):\n",
      "        singletextsimilarity=docsimilarity(tfs,ln, listofstrings)\n",
      "        simmatrix.append(similarities)\n",
      "    return simmatrix\n",
      "        \n",
      "simmatrix=FGEcosinesimilarity(listofstrings)\n",
      "simmatrix={'matrix':nandiagmatrix(simmatrix), 'itemlabels':itemlabels}\n",
      "with open(cosinesimfile, 'wb') as output:\n",
      "    pickler = pickle.Pickler(output, pickle.HIGHEST_PROTOCOL)\n",
      "    pickler.dump(simmatrix)"
     ],
     "language": "python",
     "metadata": {},
     "outputs": [],
     "prompt_number": 280
    },
    {
     "cell_type": "heading",
     "level": 2,
     "metadata": {},
     "source": [
      "naive bayes classifier on bag of words, trained on twitter dataset\n"
     ]
    },
    {
     "cell_type": "code",
     "collapsed": false,
     "input": [
      "import string\n",
      "from nltk.classify import NaiveBayesClassifier\n",
      "from nltk.corpus import movie_reviews, stopwords\n",
      "from nltk.stem.porter import PorterStemmer\n",
      "def stem_tokens(tokens, stemmer):\n",
      "    stemmed = []\n",
      "    for item in tokens:\n",
      "        stemmed.append(stemmer.stem(item))\n",
      "    return stemmed\n",
      "def preptokens(tokens):\n",
      "    filtered=[w for w in tokens if not w in stopwords.words('english') and not w in string.punctuation]\n",
      "    stemmer = PorterStemmer()\n",
      "    stems = stem_tokens(filtered, stemmer)\n",
      "    finaltokens={word:True for word in stems}\n",
      "    return finaltokens\n",
      "def twitterclassifier(tokenizer,reviewsset, teststrings):\n",
      "    negids = movie_reviews.fileids('neg')\n",
      "    posids = movie_reviews.fileids('pos')\n",
      "    negfeats = [(tokenizer(reviewsset.words(fileids=[f])), 'neg') for f in negids]\n",
      "    posfeats = [(tokenizer(reviewsset.words(fileids=[f])), 'pos') for f in posids]\n",
      "    testtokens=[string.split(' ') for string in teststrings]\n",
      "    testfeats=[tokenizer(tokens) for tokens in testtokens]\n",
      "    trainfeats = negfeats + posfeats\n",
      "    print \"training on %s item training set (Twitter). %s positive, %s negative.\" %(len(trainfeats), len(posfeats), len(negfeats))\n",
      "    print \"testing on %s items (FGE)\" %(len(testfeats))\n",
      "    classifier = NaiveBayesClassifier.train(trainfeats)\n",
      "    predictions=[]\n",
      "    probabilities=[] #of pos, neg\n",
      "    for story in testfeats:\n",
      "        label=classifier.classify(story)\n",
      "        pdist=classifier.prob_classify(story)\n",
      "        probabilities.append((pdist.prob('pos'), pdist.prob('neg')))\n",
      "        predictions.append(label)\n",
      "    return predictions, probabilities\n",
      "predictions, probabilities=twitterclassifier(preptokens,movie_reviews, listofstrings)"
     ],
     "language": "python",
     "metadata": {},
     "outputs": [
      {
       "output_type": "stream",
       "stream": "stdout",
       "text": [
        "training on 2000 item training set (Twitter). 1000 positive, 1000 negative.\n",
        "testing on 200 items (FGE)\n"
       ]
      }
     ],
     "prompt_number": 20
    },
    {
     "cell_type": "code",
     "collapsed": false,
     "input": [
      "rsaobj['twittervalence']={'itemavgs':[p[0] for p in probabilities], 'itemlabels':itemlabels}"
     ],
     "language": "python",
     "metadata": {},
     "outputs": [],
     "prompt_number": 21
    },
    {
     "cell_type": "heading",
     "level": 2,
     "metadata": {},
     "source": [
      "Add explicit ratings to rsaobj"
     ]
    },
    {
     "cell_type": "code",
     "collapsed": false,
     "input": [
      "with open(indexplicitsfile, 'r') as inputfile:\n",
      "    explicits = pickle.load(inputfile)\n",
      "confmat=[list(line) for line in explicits['matrix']]\n",
      "itemlabels=explicits['itemlabels']\n",
      "rsaobj['explicits']={'itemavgs':confmat, 'itemlabels':itemlabels}"
     ],
     "language": "python",
     "metadata": {},
     "outputs": [],
     "prompt_number": 28
    },
    {
     "cell_type": "heading",
     "level": 2,
     "metadata": {},
     "source": [
      "Add cohmetrix data"
     ]
    },
    {
     "cell_type": "code",
     "collapsed": false,
     "input": [
      "excludecols=\n",
      "cols = [col for coln,col in enumerate(cohmetrixdf.columns) if col not in ['qnum_str','cond', 'stimname', 'text','qnum',\"DESPC 'Paragraph count, number of paragraphs'\",\"DESPL 'Paragraph length, number of sentences in a paragraph, mean'\",\"DESPLd 'Paragraph length, number of sentences in a pragraph, standard deviation'\"]]\n",
      "itemlabels=cohmetrixdf.qnum_str[0:200]\n",
      "numdf=cohmetrixdf[cols]\n",
      "stds=numdf.std()\n",
      "zerostd=[index for index, val in enumerate(stds) if val==0]\n",
      "cols = [col for coln,col in enumerate(numdf.columns) if coln not in zerostd and col not in ['qnum_str','cond', 'stimname', 'text','qnum',\"DESPC 'Paragraph count, number of paragraphs'\",\"DESPL 'Paragraph length, number of sentences in a paragraph, mean'\",\"DESPLd 'Paragraph length, number of sentences in a pragraph, standard deviation'\"]]\n",
      "numdf=numdf[cols]\n",
      "numdf = (numdf - numdf.mean()) / (numdf.std())\n",
      "itemavgs=[list(line) for line in numdf.values][0:200]\n",
      "rsaobj['cohmetrix']={'itemavgs':itemavgs, 'itemlabels':itemlabels}"
     ],
     "language": "python",
     "metadata": {},
     "outputs": [],
     "prompt_number": 179
    },
    {
     "cell_type": "heading",
     "level": 2,
     "metadata": {},
     "source": [
      "Add behavioral intensity ratings to rsaobj"
     ]
    },
    {
     "cell_type": "code",
     "collapsed": false,
     "input": [
      "with open(intensityfile, 'r') as inputfile:\n",
      "    intensity = pickle.load(inputfile)\n",
      "intitems=intensity['itemlabels']\n",
      "qnum_strs=list(df.qnum_str[:])\n",
      "stimnames=list(df.stimname[:])\n",
      "intqnums=[qnum_strs[stimnames.index(item)] for item in intitems]\n",
      "intensity['itemlabels']=intqnums\n",
      "rsaobj['intensity']=intensity"
     ],
     "language": "python",
     "metadata": {},
     "outputs": [],
     "prompt_number": 50
    },
    {
     "cell_type": "heading",
     "level": 2,
     "metadata": {},
     "source": [
      "Add behavioral SVM error confusion matrices"
     ]
    },
    {
     "cell_type": "code",
     "collapsed": false,
     "input": [
      "with open(svmerrorfile, 'r') as inputfile:\n",
      "    svmerrors = pickle.load(inputfile)\n",
      "bsvmconfusions={}\n",
      "bsvmconfusions['allvars']=svmerrors['allvars']['confmat']\n",
      "bsvmconfusions['basicemoset']=svmerrors['basicemoset']['confmat']\n",
      "bsvmconfusions['valencearousalset']=svmerrors['valencearousalset']['confmat']\n",
      "bsvmconfusions['emolabels']=svmerrors['allvars']['emolabels']"
     ],
     "language": "python",
     "metadata": {},
     "outputs": [],
     "prompt_number": 96
    },
    {
     "cell_type": "code",
     "collapsed": false,
     "input": [
      "viz.simplematrix(bsvmconfusions['valencearousalset'], yticklabels=bsvmconfusions['emolabels'])"
     ],
     "language": "python",
     "metadata": {},
     "outputs": [
      {
       "metadata": {},
       "output_type": "display_data",
       "png": "[encoded data removed]",
       "text": [
        "<matplotlib.figure.Figure at 0xdaff310>"
       ]
      }
     ],
     "prompt_number": 97
    },
    {
     "cell_type": "heading",
     "level": 2,
     "metadata": {},
     "source": [
      "save outputs"
     ]
    },
    {
     "cell_type": "code",
     "collapsed": false,
     "input": [
      "with open(rsamatrixfile, 'wb') as output:\n",
      "    pickler = pickle.Pickler(output, pickle.HIGHEST_PROTOCOL)\n",
      "    pickler.dump(rsaobj)"
     ],
     "language": "python",
     "metadata": {},
     "outputs": [],
     "prompt_number": 180
    },
    {
     "cell_type": "code",
     "collapsed": false,
     "input": [],
     "language": "python",
     "metadata": {},
     "outputs": []
    }
   ],
   "metadata": {}
  }
 ]
}