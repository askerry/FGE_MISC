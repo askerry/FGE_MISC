{
 "metadata": {
  "name": "",
  "signature": "sha256:68220005b67bf2256798df18e16ac083a240e73abb9b51ea101873b49087eda8"
 },
 "nbformat": 3,
 "nbformat_minor": 0,
 "worksheets": [
  {
   "cells": [
    {
     "cell_type": "code",
     "collapsed": false,
     "input": [
      "pylab inline"
     ],
     "language": "python",
     "metadata": {},
     "outputs": [
      {
       "output_type": "stream",
       "stream": "stdout",
       "text": [
        "Populating the interactive namespace from numpy and matplotlib\n"
       ]
      }
     ],
     "prompt_number": 1
    },
    {
     "cell_type": "code",
     "collapsed": false,
     "input": [
      "import sys\n",
      "import matplotlib.pyplot as plt\n",
      "sys.path.append('/mindhive/saxelab/u/askerry/mypythonenv/lib/python2.7/site-packages/PyMVPA/') #for pymvpa\n",
      "sys.path.append('/mindhive/saxelab/scripts/aesscripts/') #for mypymvpa\n",
      "sys.path.insert(0,'/software/nipy-repo/nipy-suite/nibabel') #insert this so it gets used instead of nibabel in mypythonenv\n",
      "sys.path.append('/software/python/anaconda/lib/python2.7/site-packages/') #for h5py\n",
      "import numpy as np\n",
      "import datetime\n",
      "import scipy\n",
      "import pandas as pd\n",
      "import h5py\n",
      "import os\n",
      "import glob\n",
      "import pickle\n",
      "from mypymvpa.utilities.stats import ttestaccs\n",
      "from mypymvpa.utilities.misc import makeIDs\n",
      "import mypymvpa.utilities.misc as mum\n",
      "import mypymvpa.utilities.stats as mus\n",
      "import mypymvpa.utilities.visualization as viz\n",
      "from mypymvpa.analysisobjs.mainobjs import ClassificationResults\n",
      "from pyanal.RSA_funcs import ItemResult\n",
      "import pickle"
     ],
     "language": "python",
     "metadata": {},
     "outputs": [],
     "prompt_number": 2
    },
    {
     "cell_type": "code",
     "collapsed": false,
     "input": [
      "#load experiment\n",
      "rsamatrixfile='/mindhive/saxelab2/FGE/stimdata/RSAmatrixinfo.pkl'\n",
      "rootdir='/mindhive/saxelab2/FGE/'\n",
      "rootanalysisdir=rootdir+'pymvparesults/'\n",
      "expfile=rootanalysisdir+'ExpObj_FGE_main_boldspilot.pkl'\n",
      "subdir='subjresults_clf_skSVM_None_full_hpf_zsc_FGE_main_bolds_pilot/'\n",
      "clfstring='clf_skSVM_None_full_hpf_zsc'\n",
      "subjobjname='SubjObj_%s_FGE_main_bolds'\n",
      "e=mum.loadpickledobject(expfile)\n",
      "savetag='pilot'\n",
      "printit=True\n",
      "e.saveexp()\n",
      "e.duration=6\n",
      "numitems=200\n",
      "numitemspercond=10\n",
      "\n",
      "#limit to subsets if desired\n",
      "discs=e.discriminations.keys()\n",
      "roilist=e.roinames\n",
      "try:\n",
      "    discs.remove('emovspain')\n",
      "except:\n",
      "    pass\n",
      "\n",
      "conditions=['DEV', 'DIP', 'ANN', 'APP', 'DIG', 'EMB', 'FUR', 'GUI', 'JEA', 'TER', 'LON', 'EXC', 'JOY', 'PRO', 'CON', 'GRA', 'HOP', 'IMP', 'NOS', 'SUR']"
     ],
     "language": "python",
     "metadata": {},
     "outputs": [
      {
       "output_type": "stream",
       "stream": "stdout",
       "text": [
        "saved experiment to /mindhive/saxelab2/FGE/pymvparesults/ExpObj_FGE_main_boldspilot.pkl\n"
       ]
      }
     ],
     "prompt_number": 3
    },
    {
     "cell_type": "code",
     "collapsed": false,
     "input": [
      "#desired subjects for this analysis\n",
      "subjlist=makeIDs('FGE',[1,2,3,4,5,6,7,8,9,10,11,12,13,14,15,16,17,18,19,20])\n",
      "e.subjects=subjlist\n",
      "#create a list of subject objects in the exp\n",
      "subjects=e.makesubjects()\n",
      "#if you want to change to a subset of subjects\n",
      "if savetag=='pilot':\n",
      "    subjsubset=subjlist #all subjects"
     ],
     "language": "python",
     "metadata": {},
     "outputs": [],
     "prompt_number": 4
    },
    {
     "cell_type": "code",
     "collapsed": false,
     "input": [
      "with open(rsamatrixfile, 'r') as inputfile:\n",
      "    rsaobj = pickle.load(inputfile)\n",
      "item2emomapping=rsaobj['item2emomapping']"
     ],
     "language": "python",
     "metadata": {},
     "outputs": [],
     "prompt_number": 5
    },
    {
     "cell_type": "code",
     "collapsed": false,
     "input": [
      "def orderresults(items, r):\n",
      "    uacc=[el for sublist in r.details['accuracies'] for el in sublist]\n",
      "    upred=[el for sublist in r.details['predictions'] for el in sublist]\n",
      "    uintensity=[int(el) for sublist in r.details['itemintensities'] for el in sublist]\n",
      "    uitems=[el for sublist in r.details['items'] for el in sublist]\n",
      "    oacc,opred,ointensity=[],[],[]\n",
      "    for i in items:\n",
      "        try:\n",
      "            index=uitems.index(i)\n",
      "            oacc.append(uacc[index])\n",
      "            opred.append(upred[index])\n",
      "            ointensity.append(uintensity[index])\n",
      "        except:\n",
      "            oacc.append(np.nan)\n",
      "            opred.append(np.nan)\n",
      "            ointensity.append(np.nan)\n",
      "    return oacc, opred, ointensity\n",
      "def comparecorcin(accuracies, intensities):\n",
      "    correct=[int(intensities[eln]) for eln,el in enumerate(accuracies) if el==True and int(intensities[eln])!=0]\n",
      "    incorrect=[int(intensities[eln]) for eln,el in enumerate(accuracies) if el==False and int(intensities[eln])!=0]\n",
      "    cmean=np.mean(correct)\n",
      "    imean=np.mean(incorrect)\n",
      "    cidiff=cmean-imean\n",
      "    return cidiff\n",
      "def makeitem(cond,num):\n",
      "    if num>9:\n",
      "        item=cond+'_0'+str(num)\n",
      "    else:\n",
      "        item=cond+'_00'+str(num)\n",
      "    return item\n",
      "\n",
      "def countpredictions(predictions, items, conditions, group=True):\n",
      "    allpreds=list(np.array(predictions).flatten())\n",
      "    unorderedclasses=list(set(allpreds))\n",
      "    classes=conditions\n",
      "    #classes=[c for c in conditions if c in unorderedclasses and c != 'nan']\n",
      "    predcounts={item:[0 for c in classes] for item in items}\n",
      "    if group:\n",
      "        for subjpred in predictions:\n",
      "            for inum,i in enumerate(items):\n",
      "                pred=subjpred[inum]\n",
      "                try:\n",
      "                    predcounts[i][classes.index(pred)]+=1\n",
      "                except:\n",
      "                    pass\n",
      "    else:\n",
      "        for inum,i in enumerate(items):\n",
      "                pred=predictions[inum]\n",
      "                try:\n",
      "                    predcounts[i][classes.index(pred)]+=1\n",
      "                except:\n",
      "                    pass\n",
      "    return predcounts, classes\n",
      "def saveintensities(intensities,items):\n",
      "    intensityratings={}\n",
      "    itemavgs=list(np.nanmean(intensities,axis=0))\n",
      "    intensityratings['itemavgs']=itemavgs\n",
      "    intensityratings['itemlabels']=items\n",
      "    with open('/mindhive/saxelab2/FGE/intensityratings.pkl', 'wb') as output:\n",
      "        pickler = pickle.Pickler(output, pickle.HIGHEST_PROTOCOL)\n",
      "        pickler.dump(intensityratings)\n",
      "def makeconfmatrix(predcounts, classes, items, discmapping):\n",
      "    confmat=[]\n",
      "    for c in classes:\n",
      "        relevantcounts=[predcounts[i] for i in items if i[0:3] in discmapping[c]]\n",
      "        countavgs=np.nanmean(relevantcounts, axis=0)\n",
      "        countsums=np.sum(countavgs)\n",
      "        countavgs=[c/countsums for c in countavgs]\n",
      "        confmat.append(countavgs)\n",
      "    #viz.simplematrix(confmat, yticklabels=classes, xticklabels=classes, xtickrotation=90)\n",
      "    if np.array(confmat).size<400:\n",
      "        print len(classes)\n",
      "    return confmat\n",
      "def compress(array, items, conditions):\n",
      "    compressedarray=[]\n",
      "    for c in conditions:\n",
      "        relitems=[array[inum] for inum,i in enumerate(items) if i[0:3]==c]\n",
      "        compressedarray.append(np.nanmean(relitems))\n",
      "    return compressedarray\n",
      "\n",
      "def indanalyze(acc, intensity, predictions, items, cidiffs, conditions, e):\n",
      "    emoaccuracy=compress(acc, items, conditions)\n",
      "    emointensity=compress(intensity, items, conditions)\n",
      "    predcounts, classes=countpredictions(predictions, items, conditions, group=False)\n",
      "    confmatrix=makeconfmatrix(predcounts, classes, items,e.discriminations[disc])\n",
      "    confusions={'predcounts':predcounts, 'confmatrix':confmatrix, 'classes':classes}\n",
      "    r,p=scipy.stats.pearsonr(acc,intensity)\n",
      "    tag=''\n",
      "    if p<.05:\n",
      "        tag='******'\n",
      "    #print \"correlation between avg intensity and avg accuracy: r=%.3f, p=%.3f %s\" %(r,p,tag)\n",
      "    return acc, intensity, confusions, emoaccuracy, emointensity\n",
      "\n",
      "def groupanalyze(accuracies, intensities, predictions, items, cidiffs, conditions, e):\n",
      "    avgaccuracy=np.nanmean(accuracies, axis=0)\n",
      "    avgintensity=np.nanmean(intensities, axis=0)\n",
      "    emoaccuracy=compress(avgaccuracy, items, conditions)\n",
      "    emointensity=compress(avgintensity, items, conditions)\n",
      "    predcounts, classes=countpredictions(predictions, items, conditions)\n",
      "    confmatrix=makeconfmatrix(predcounts, classes, items,e.discriminations[disc])\n",
      "    confusions={'predcounts':predcounts, 'confmatrix':confmatrix, 'classes':classes}\n",
      "    r,p=scipy.stats.pearsonr(avgaccuracy,avgintensity)\n",
      "    tag=''\n",
      "    if p<.05:\n",
      "        tag='******'\n",
      "    print \"correlation between avg intensity and avg accuracy: r=%.3f, p=%.3f %s\" %(r,p,tag)\n",
      "    t,p=scipy.stats.ttest_1samp(cidiffs, 0)\n",
      "    df = len(cidiffs) - 1\n",
      "    if t > 0:\n",
      "        p = p / 2\n",
      "    elif t < 0:\n",
      "        p = 1 - p / 2\n",
      "    tag=''\n",
      "    if p<.05:\n",
      "        tag='******'\n",
      "    print \"within subject intensity diffs between correct and incorrectly classified items\"\n",
      "    statstring = \"M(SEM)=%.3f(%.3f), t(%.0f)=%.3f, p=%.3f (one-tailed) %s\" % (np.mean(cidiffs),np.std(cidiffs, ddof=1)/np.sqrt(len(cidiffs)), df, t, p, tag)\n",
      "    print statstring\n",
      "    return avgaccuracy, avgintensity, confusions, emoaccuracy, emointensity"
     ],
     "language": "python",
     "metadata": {},
     "outputs": [],
     "prompt_number": 14
    },
    {
     "cell_type": "code",
     "collapsed": false,
     "input": [
      "resultsobj=None\n",
      "for disc in ['allemos']:\n",
      "    selectors=e.discsels[disc]\n",
      "    for sel in selectors:\n",
      "        if printit:\n",
      "            print disc+': '+sel\n",
      "        for roi in roilist:\n",
      "            if printit:\n",
      "                print roi\n",
      "            includedsubjs, intensities, predictions,accuracies,items,cidiffs=[],[],[],[],[],[]\n",
      "            for subjectn, subject in enumerate(subjects):\n",
      "                if subject.subjid in subjsubset:\n",
      "                    if roi in subject.rois.keys():\n",
      "                        print subject.subjid\n",
      "                        includedsubjs.append(subject.subjid)\n",
      "                        inddir=subject.subjanalysisdir+subdir\n",
      "                        indfile=glob.glob(inddir+disc+'_'+sel+'_'+roi+'.pkl')\n",
      "                        with open(indfile[0], 'r') as inputfile:\n",
      "                            result=pickle.load(inputfile)\n",
      "                        if not items:\n",
      "                            conds=[elements for cond in e.discriminations[disc].values() for elements in cond]\n",
      "                            items=[makeitem(cond,num) for cond in conds for num in range(1,numitemspercond+1)]                        \n",
      "                        acc,pred,intensity=orderresults(items,result)\n",
      "                        cidiff=comparecorcin(acc,intensity)\n",
      "                        indir=ItemResult(roi, disc, conditions, items, e, subject=subject.subjid)\n",
      "                        indir.avgaccuracy, indir.avgintensity, indir.confusions, indir.emoaccuracy, indir.emointensity = indanalyze(acc, intensity, pred, items, cidiff, conditions, e)\n",
      "                        indir.itemsave()\n",
      "                        cidiffs.append(cidiff)\n",
      "                        accuracies.append(acc)\n",
      "                        predictions.append(pred)\n",
      "                        intensities.append(intensity)\n",
      "            ir=ItemResult(roi,disc,conditions,items, e)\n",
      "            if len(intensities)==numitems:\n",
      "                saveintensities(intensities,items)\n",
      "            ir.avgaccuracy, ir.avgintensity, ir.confusions, ir.emoaccuracy, ir.emointensity = groupanalyze(accuracies, intensities, predictions, items, cidiffs, conditions, e)\n",
      "            ir.itemsave()\n",
      "            ir.plotattr('emoaccuracy', axislabels='conditions')"
     ],
     "language": "python",
     "metadata": {},
     "outputs": [
      {
       "output_type": "stream",
       "stream": "stdout",
       "text": [
        "allemos: runs\n",
        "RTPJ_tomloc\n",
        "SAX_FGE_01\n",
        "SAX_FGE_02"
       ]
      },
      {
       "output_type": "stream",
       "stream": "stdout",
       "text": [
        "\n",
        "SAX_FGE_03"
       ]
      },
      {
       "output_type": "stream",
       "stream": "stdout",
       "text": [
        "\n",
        "SAX_FGE_04"
       ]
      },
      {
       "output_type": "stream",
       "stream": "stdout",
       "text": [
        "\n",
        "SAX_FGE_05"
       ]
      },
      {
       "output_type": "stream",
       "stream": "stdout",
       "text": [
        "\n",
        "SAX_FGE_06"
       ]
      },
      {
       "output_type": "stream",
       "stream": "stdout",
       "text": [
        "\n",
        "SAX_FGE_07"
       ]
      },
      {
       "output_type": "stream",
       "stream": "stdout",
       "text": [
        "\n",
        "SAX_FGE_08"
       ]
      },
      {
       "output_type": "stream",
       "stream": "stdout",
       "text": [
        "\n",
        "SAX_FGE_09"
       ]
      },
      {
       "output_type": "stream",
       "stream": "stdout",
       "text": [
        "\n",
        "SAX_FGE_10"
       ]
      },
      {
       "output_type": "stream",
       "stream": "stdout",
       "text": [
        "\n",
        "SAX_FGE_11"
       ]
      },
      {
       "output_type": "stream",
       "stream": "stdout",
       "text": [
        "\n",
        "SAX_FGE_12"
       ]
      },
      {
       "output_type": "stream",
       "stream": "stdout",
       "text": [
        "\n",
        "SAX_FGE_13"
       ]
      },
      {
       "output_type": "stream",
       "stream": "stdout",
       "text": [
        "\n",
        "SAX_FGE_14"
       ]
      },
      {
       "output_type": "stream",
       "stream": "stdout",
       "text": [
        "\n",
        "SAX_FGE_15"
       ]
      },
      {
       "output_type": "stream",
       "stream": "stdout",
       "text": [
        "\n",
        "SAX_FGE_16"
       ]
      },
      {
       "output_type": "stream",
       "stream": "stdout",
       "text": [
        "\n",
        "SAX_FGE_17"
       ]
      },
      {
       "output_type": "stream",
       "stream": "stdout",
       "text": [
        "\n",
        "SAX_FGE_18"
       ]
      },
      {
       "output_type": "stream",
       "stream": "stdout",
       "text": [
        "\n",
        "SAX_FGE_19"
       ]
      },
      {
       "output_type": "stream",
       "stream": "stdout",
       "text": [
        "\n",
        "SAX_FGE_20"
       ]
      },
      {
       "output_type": "stream",
       "stream": "stdout",
       "text": [
        "\n",
        "correlation between avg intensity and avg accuracy: r=-0.111, p=0.118 "
       ]
      },
      {
       "output_type": "stream",
       "stream": "stdout",
       "text": [
        "\n",
        "within subject intensity diffs between correct and incorrectly classified items\n",
        "M(SEM)=-0.019(0.038), t(19)=-0.489, p=0.685 (one-tailed) \n"
       ]
      },
      {
       "metadata": {},
       "output_type": "display_data",
       "png": "[encoded data removed]",
       "text": [
        "<matplotlib.figure.Figure at 0x58bd210>"
       ]
      },
      {
       "output_type": "stream",
       "stream": "stdout",
       "text": [
        "LTPJ_tomloc\n",
        "SAX_FGE_01\n",
        "SAX_FGE_02"
       ]
      },
      {
       "output_type": "stream",
       "stream": "stdout",
       "text": [
        "\n",
        "SAX_FGE_03"
       ]
      },
      {
       "output_type": "stream",
       "stream": "stdout",
       "text": [
        "\n",
        "SAX_FGE_04"
       ]
      },
      {
       "output_type": "stream",
       "stream": "stdout",
       "text": [
        "\n",
        "SAX_FGE_05"
       ]
      },
      {
       "output_type": "stream",
       "stream": "stdout",
       "text": [
        "\n",
        "SAX_FGE_06"
       ]
      },
      {
       "output_type": "stream",
       "stream": "stdout",
       "text": [
        "\n",
        "SAX_FGE_07"
       ]
      },
      {
       "output_type": "stream",
       "stream": "stdout",
       "text": [
        "\n",
        "SAX_FGE_08"
       ]
      },
      {
       "output_type": "stream",
       "stream": "stdout",
       "text": [
        "\n",
        "SAX_FGE_09"
       ]
      },
      {
       "output_type": "stream",
       "stream": "stdout",
       "text": [
        "\n",
        "SAX_FGE_10"
       ]
      },
      {
       "output_type": "stream",
       "stream": "stdout",
       "text": [
        "\n",
        "SAX_FGE_11"
       ]
      },
      {
       "output_type": "stream",
       "stream": "stdout",
       "text": [
        "\n",
        "SAX_FGE_12"
       ]
      },
      {
       "output_type": "stream",
       "stream": "stdout",
       "text": [
        "\n",
        "SAX_FGE_13"
       ]
      },
      {
       "output_type": "stream",
       "stream": "stdout",
       "text": [
        "\n",
        "17\n",
        "SAX_FGE_14"
       ]
      },
      {
       "output_type": "stream",
       "stream": "stdout",
       "text": [
        "\n",
        "SAX_FGE_15"
       ]
      },
      {
       "output_type": "stream",
       "stream": "stdout",
       "text": [
        "\n",
        "SAX_FGE_16"
       ]
      },
      {
       "output_type": "stream",
       "stream": "stdout",
       "text": [
        "\n",
        "SAX_FGE_17"
       ]
      },
      {
       "output_type": "stream",
       "stream": "stdout",
       "text": [
        "\n",
        "SAX_FGE_18"
       ]
      },
      {
       "output_type": "stream",
       "stream": "stdout",
       "text": [
        "\n",
        "SAX_FGE_19"
       ]
      },
      {
       "output_type": "stream",
       "stream": "stdout",
       "text": [
        "\n",
        "SAX_FGE_20"
       ]
      },
      {
       "output_type": "stream",
       "stream": "stdout",
       "text": [
        "\n",
        "correlation between avg intensity and avg accuracy: r=-0.062, p=0.387 "
       ]
      },
      {
       "output_type": "stream",
       "stream": "stdout",
       "text": [
        "\n",
        "within subject intensity diffs between correct and incorrectly classified items\n",
        "M(SEM)=-0.108(0.073), t(19)=-1.471, p=0.921 (one-tailed) \n"
       ]
      },
      {
       "metadata": {},
       "output_type": "display_data",
       "png": "[encoded data removed]",
       "text": [
        "<matplotlib.figure.Figure at 0x154e9fd0>"
       ]
      },
      {
       "output_type": "stream",
       "stream": "stdout",
       "text": [
        "RSTS_tomloc\n",
        "SAX_FGE_01\n",
        "SAX_FGE_02"
       ]
      },
      {
       "output_type": "stream",
       "stream": "stdout",
       "text": [
        "\n",
        "SAX_FGE_03"
       ]
      },
      {
       "output_type": "stream",
       "stream": "stdout",
       "text": [
        "\n",
        "SAX_FGE_04"
       ]
      },
      {
       "output_type": "stream",
       "stream": "stdout",
       "text": [
        "\n",
        "SAX_FGE_05"
       ]
      },
      {
       "output_type": "stream",
       "stream": "stdout",
       "text": [
        "\n",
        "SAX_FGE_06"
       ]
      },
      {
       "output_type": "stream",
       "stream": "stdout",
       "text": [
        "\n",
        "SAX_FGE_07"
       ]
      },
      {
       "output_type": "stream",
       "stream": "stdout",
       "text": [
        "\n",
        "SAX_FGE_08"
       ]
      },
      {
       "output_type": "stream",
       "stream": "stdout",
       "text": [
        "\n",
        "SAX_FGE_09"
       ]
      },
      {
       "output_type": "stream",
       "stream": "stdout",
       "text": [
        "\n",
        "SAX_FGE_10"
       ]
      },
      {
       "output_type": "stream",
       "stream": "stdout",
       "text": [
        "\n",
        "SAX_FGE_11"
       ]
      },
      {
       "output_type": "stream",
       "stream": "stdout",
       "text": [
        "\n",
        "SAX_FGE_13"
       ]
      },
      {
       "output_type": "stream",
       "stream": "stdout",
       "text": [
        "\n",
        "SAX_FGE_14"
       ]
      },
      {
       "output_type": "stream",
       "stream": "stdout",
       "text": [
        "\n",
        "SAX_FGE_15"
       ]
      },
      {
       "output_type": "stream",
       "stream": "stdout",
       "text": [
        "\n",
        "SAX_FGE_16"
       ]
      },
      {
       "output_type": "stream",
       "stream": "stdout",
       "text": [
        "\n",
        "SAX_FGE_17"
       ]
      },
      {
       "output_type": "stream",
       "stream": "stdout",
       "text": [
        "\n",
        "SAX_FGE_18"
       ]
      },
      {
       "output_type": "stream",
       "stream": "stdout",
       "text": [
        "\n",
        "SAX_FGE_19"
       ]
      },
      {
       "output_type": "stream",
       "stream": "stdout",
       "text": [
        "\n",
        "SAX_FGE_20"
       ]
      },
      {
       "output_type": "stream",
       "stream": "stdout",
       "text": [
        "\n",
        "correlation between avg intensity and avg accuracy: r=-0.085, p=0.230 "
       ]
      },
      {
       "output_type": "stream",
       "stream": "stdout",
       "text": [
        "\n",
        "within subject intensity diffs between correct and incorrectly classified items\n",
        "M(SEM)=-0.104(0.047), t(18)=-2.201, p=0.979 (one-tailed) \n"
       ]
      },
      {
       "metadata": {},
       "output_type": "display_data",
       "png": "[encoded data removed]",
       "text": [
        "<matplotlib.figure.Figure at 0x15787d90>"
       ]
      },
      {
       "output_type": "stream",
       "stream": "stdout",
       "text": [
        "PC_tomloc\n",
        "SAX_FGE_01\n",
        "SAX_FGE_02"
       ]
      },
      {
       "output_type": "stream",
       "stream": "stdout",
       "text": [
        "\n",
        "SAX_FGE_03"
       ]
      },
      {
       "output_type": "stream",
       "stream": "stdout",
       "text": [
        "\n",
        "SAX_FGE_04"
       ]
      },
      {
       "output_type": "stream",
       "stream": "stdout",
       "text": [
        "\n",
        "SAX_FGE_05"
       ]
      },
      {
       "output_type": "stream",
       "stream": "stdout",
       "text": [
        "\n",
        "SAX_FGE_06"
       ]
      },
      {
       "output_type": "stream",
       "stream": "stdout",
       "text": [
        "\n",
        "SAX_FGE_07"
       ]
      },
      {
       "output_type": "stream",
       "stream": "stdout",
       "text": [
        "\n",
        "SAX_FGE_08"
       ]
      },
      {
       "output_type": "stream",
       "stream": "stdout",
       "text": [
        "\n",
        "SAX_FGE_09"
       ]
      },
      {
       "output_type": "stream",
       "stream": "stdout",
       "text": [
        "\n",
        "SAX_FGE_10"
       ]
      },
      {
       "output_type": "stream",
       "stream": "stdout",
       "text": [
        "\n",
        "SAX_FGE_11"
       ]
      },
      {
       "output_type": "stream",
       "stream": "stdout",
       "text": [
        "\n",
        "SAX_FGE_12"
       ]
      },
      {
       "output_type": "stream",
       "stream": "stdout",
       "text": [
        "\n",
        "SAX_FGE_13"
       ]
      },
      {
       "output_type": "stream",
       "stream": "stdout",
       "text": [
        "\n",
        "17\n",
        "SAX_FGE_14"
       ]
      },
      {
       "output_type": "stream",
       "stream": "stdout",
       "text": [
        "\n",
        "SAX_FGE_15"
       ]
      },
      {
       "output_type": "stream",
       "stream": "stdout",
       "text": [
        "\n",
        "SAX_FGE_16"
       ]
      },
      {
       "output_type": "stream",
       "stream": "stdout",
       "text": [
        "\n",
        "SAX_FGE_17"
       ]
      },
      {
       "output_type": "stream",
       "stream": "stdout",
       "text": [
        "\n",
        "SAX_FGE_18"
       ]
      },
      {
       "output_type": "stream",
       "stream": "stdout",
       "text": [
        "\n",
        "SAX_FGE_19"
       ]
      },
      {
       "output_type": "stream",
       "stream": "stdout",
       "text": [
        "\n",
        "SAX_FGE_20"
       ]
      },
      {
       "output_type": "stream",
       "stream": "stdout",
       "text": [
        "\n",
        "correlation between avg intensity and avg accuracy: r=-0.054, p=0.449 "
       ]
      },
      {
       "output_type": "stream",
       "stream": "stdout",
       "text": [
        "\n",
        "within subject intensity diffs between correct and incorrectly classified items\n",
        "M(SEM)=0.035(0.062), t(19)=0.566, p=0.289 (one-tailed) \n"
       ]
      },
      {
       "metadata": {},
       "output_type": "display_data",
       "png": "[encoded data removed]",
       "text": [
        "<matplotlib.figure.Figure at 0x154e3e10>"
       ]
      },
      {
       "output_type": "stream",
       "stream": "stdout",
       "text": [
        "DMPFC_tomloc\n",
        "SAX_FGE_01\n",
        "SAX_FGE_02"
       ]
      },
      {
       "output_type": "stream",
       "stream": "stdout",
       "text": [
        "\n",
        "SAX_FGE_03"
       ]
      },
      {
       "output_type": "stream",
       "stream": "stdout",
       "text": [
        "\n",
        "SAX_FGE_04"
       ]
      },
      {
       "output_type": "stream",
       "stream": "stdout",
       "text": [
        "\n",
        "SAX_FGE_05"
       ]
      },
      {
       "output_type": "stream",
       "stream": "stdout",
       "text": [
        "\n",
        "SAX_FGE_06"
       ]
      },
      {
       "output_type": "stream",
       "stream": "stdout",
       "text": [
        "\n",
        "SAX_FGE_07"
       ]
      },
      {
       "output_type": "stream",
       "stream": "stdout",
       "text": [
        "\n",
        "SAX_FGE_08"
       ]
      },
      {
       "output_type": "stream",
       "stream": "stdout",
       "text": [
        "\n",
        "19\n",
        "SAX_FGE_09"
       ]
      },
      {
       "output_type": "stream",
       "stream": "stdout",
       "text": [
        "\n",
        "SAX_FGE_10"
       ]
      },
      {
       "output_type": "stream",
       "stream": "stdout",
       "text": [
        "\n",
        "SAX_FGE_11"
       ]
      },
      {
       "output_type": "stream",
       "stream": "stdout",
       "text": [
        "\n",
        "19\n",
        "SAX_FGE_12"
       ]
      },
      {
       "output_type": "stream",
       "stream": "stdout",
       "text": [
        "\n",
        "SAX_FGE_14"
       ]
      },
      {
       "output_type": "stream",
       "stream": "stdout",
       "text": [
        "\n",
        "SAX_FGE_15"
       ]
      },
      {
       "output_type": "stream",
       "stream": "stdout",
       "text": [
        "\n",
        "SAX_FGE_16"
       ]
      },
      {
       "output_type": "stream",
       "stream": "stdout",
       "text": [
        "\n",
        "SAX_FGE_17"
       ]
      },
      {
       "output_type": "stream",
       "stream": "stdout",
       "text": [
        "\n",
        "SAX_FGE_18"
       ]
      },
      {
       "output_type": "stream",
       "stream": "stdout",
       "text": [
        "\n",
        "SAX_FGE_19"
       ]
      },
      {
       "output_type": "stream",
       "stream": "stdout",
       "text": [
        "\n",
        "SAX_FGE_20"
       ]
      },
      {
       "output_type": "stream",
       "stream": "stdout",
       "text": [
        "\n",
        "correlation between avg intensity and avg accuracy: r=-0.178, p=0.012 ******"
       ]
      },
      {
       "output_type": "stream",
       "stream": "stdout",
       "text": [
        "\n",
        "within subject intensity diffs between correct and incorrectly classified items\n",
        "M(SEM)=-0.095(0.055), t(18)=-1.721, p=0.949 (one-tailed) \n"
       ]
      },
      {
       "metadata": {},
       "output_type": "display_data",
       "png": "[encoded data removed]",
       "text": [
        "<matplotlib.figure.Figure at 0x194efd0>"
       ]
      },
      {
       "output_type": "stream",
       "stream": "stdout",
       "text": [
        "MMPFC_tomloc\n",
        "SAX_FGE_01\n",
        "SAX_FGE_02"
       ]
      },
      {
       "output_type": "stream",
       "stream": "stdout",
       "text": [
        "\n",
        "SAX_FGE_03"
       ]
      },
      {
       "output_type": "stream",
       "stream": "stdout",
       "text": [
        "\n",
        "SAX_FGE_04"
       ]
      },
      {
       "output_type": "stream",
       "stream": "stdout",
       "text": [
        "\n",
        "SAX_FGE_05"
       ]
      },
      {
       "output_type": "stream",
       "stream": "stdout",
       "text": [
        "\n",
        "SAX_FGE_06"
       ]
      },
      {
       "output_type": "stream",
       "stream": "stdout",
       "text": [
        "\n",
        "SAX_FGE_07"
       ]
      },
      {
       "output_type": "stream",
       "stream": "stdout",
       "text": [
        "\n",
        "SAX_FGE_08"
       ]
      },
      {
       "output_type": "stream",
       "stream": "stdout",
       "text": [
        "\n",
        "SAX_FGE_09"
       ]
      },
      {
       "output_type": "stream",
       "stream": "stdout",
       "text": [
        "\n",
        "SAX_FGE_10"
       ]
      },
      {
       "output_type": "stream",
       "stream": "stdout",
       "text": [
        "\n",
        "SAX_FGE_11"
       ]
      },
      {
       "output_type": "stream",
       "stream": "stdout",
       "text": [
        "\n",
        "SAX_FGE_13"
       ]
      },
      {
       "output_type": "stream",
       "stream": "stdout",
       "text": [
        "\n",
        "SAX_FGE_14"
       ]
      },
      {
       "output_type": "stream",
       "stream": "stdout",
       "text": [
        "\n",
        "SAX_FGE_15"
       ]
      },
      {
       "output_type": "stream",
       "stream": "stdout",
       "text": [
        "\n",
        "SAX_FGE_16"
       ]
      },
      {
       "output_type": "stream",
       "stream": "stdout",
       "text": [
        "\n",
        "SAX_FGE_17"
       ]
      },
      {
       "output_type": "stream",
       "stream": "stdout",
       "text": [
        "\n",
        "SAX_FGE_18"
       ]
      },
      {
       "output_type": "stream",
       "stream": "stdout",
       "text": [
        "\n",
        "SAX_FGE_19"
       ]
      },
      {
       "output_type": "stream",
       "stream": "stdout",
       "text": [
        "\n",
        "SAX_FGE_20"
       ]
      },
      {
       "output_type": "stream",
       "stream": "stdout",
       "text": [
        "\n",
        "correlation between avg intensity and avg accuracy: r=-0.125, p=0.078 "
       ]
      },
      {
       "output_type": "stream",
       "stream": "stdout",
       "text": [
        "\n",
        "within subject intensity diffs between correct and incorrectly classified items\n",
        "M(SEM)=-0.031(0.043), t(18)=-0.728, p=0.762 (one-tailed) \n"
       ]
      },
      {
       "metadata": {},
       "output_type": "display_data",
       "png": "[encoded data removed]",
       "text": [
        "<matplotlib.figure.Figure at 0x58e6bd0>"
       ]
      },
      {
       "output_type": "stream",
       "stream": "stdout",
       "text": [
        "VMPFC_tomloc\n",
        "SAX_FGE_01\n",
        "SAX_FGE_02"
       ]
      },
      {
       "output_type": "stream",
       "stream": "stdout",
       "text": [
        "\n",
        "SAX_FGE_03"
       ]
      },
      {
       "output_type": "stream",
       "stream": "stdout",
       "text": [
        "\n",
        "SAX_FGE_04"
       ]
      },
      {
       "output_type": "stream",
       "stream": "stdout",
       "text": [
        "\n",
        "SAX_FGE_05"
       ]
      },
      {
       "output_type": "stream",
       "stream": "stdout",
       "text": [
        "\n",
        "SAX_FGE_06"
       ]
      },
      {
       "output_type": "stream",
       "stream": "stdout",
       "text": [
        "\n",
        "SAX_FGE_07"
       ]
      },
      {
       "output_type": "stream",
       "stream": "stdout",
       "text": [
        "\n",
        "SAX_FGE_08"
       ]
      },
      {
       "output_type": "stream",
       "stream": "stdout",
       "text": [
        "\n",
        "SAX_FGE_09"
       ]
      },
      {
       "output_type": "stream",
       "stream": "stdout",
       "text": [
        "\n",
        "SAX_FGE_10"
       ]
      },
      {
       "output_type": "stream",
       "stream": "stdout",
       "text": [
        "\n",
        "SAX_FGE_12"
       ]
      },
      {
       "output_type": "stream",
       "stream": "stdout",
       "text": [
        "\n",
        "SAX_FGE_14"
       ]
      },
      {
       "output_type": "stream",
       "stream": "stdout",
       "text": [
        "\n",
        "19\n",
        "SAX_FGE_15"
       ]
      },
      {
       "output_type": "stream",
       "stream": "stdout",
       "text": [
        "\n",
        "SAX_FGE_16"
       ]
      },
      {
       "output_type": "stream",
       "stream": "stdout",
       "text": [
        "\n",
        "SAX_FGE_17"
       ]
      },
      {
       "output_type": "stream",
       "stream": "stdout",
       "text": [
        "\n",
        "19\n",
        "SAX_FGE_19"
       ]
      },
      {
       "output_type": "stream",
       "stream": "stdout",
       "text": [
        "\n",
        "SAX_FGE_20"
       ]
      },
      {
       "output_type": "stream",
       "stream": "stdout",
       "text": [
        "\n",
        "correlation between avg intensity and avg accuracy: r=-0.183, p=0.009 ******"
       ]
      },
      {
       "output_type": "stream",
       "stream": "stdout",
       "text": [
        "\n",
        "within subject intensity diffs between correct and incorrectly classified items\n",
        "M(SEM)=-0.062(0.061), t(16)=-1.010, p=0.836 (one-tailed) \n"
       ]
      },
      {
       "metadata": {},
       "output_type": "display_data",
       "png": "[encoded data removed]",
       "text": [
        "<matplotlib.figure.Figure at 0x7f8df214d6d0>"
       ]
      },
      {
       "output_type": "stream",
       "stream": "stdout",
       "text": [
        "lSTS_peelenpeak\n",
        "SAX_FGE_01\n",
        "SAX_FGE_02"
       ]
      },
      {
       "output_type": "stream",
       "stream": "stdout",
       "text": [
        "\n",
        "SAX_FGE_03"
       ]
      },
      {
       "output_type": "stream",
       "stream": "stdout",
       "text": [
        "\n",
        "SAX_FGE_04"
       ]
      },
      {
       "output_type": "stream",
       "stream": "stdout",
       "text": [
        "\n",
        "SAX_FGE_05"
       ]
      },
      {
       "output_type": "stream",
       "stream": "stdout",
       "text": [
        "\n",
        "SAX_FGE_06"
       ]
      },
      {
       "output_type": "stream",
       "stream": "stdout",
       "text": [
        "\n",
        "SAX_FGE_07"
       ]
      },
      {
       "output_type": "stream",
       "stream": "stdout",
       "text": [
        "\n",
        "SAX_FGE_08"
       ]
      },
      {
       "output_type": "stream",
       "stream": "stdout",
       "text": [
        "\n",
        "SAX_FGE_09"
       ]
      },
      {
       "output_type": "stream",
       "stream": "stdout",
       "text": [
        "\n",
        "SAX_FGE_10"
       ]
      },
      {
       "output_type": "stream",
       "stream": "stdout",
       "text": [
        "\n",
        "SAX_FGE_11"
       ]
      },
      {
       "output_type": "stream",
       "stream": "stdout",
       "text": [
        "\n",
        "SAX_FGE_12"
       ]
      },
      {
       "output_type": "stream",
       "stream": "stdout",
       "text": [
        "\n",
        "SAX_FGE_13"
       ]
      },
      {
       "output_type": "stream",
       "stream": "stdout",
       "text": [
        "\n",
        "SAX_FGE_14"
       ]
      },
      {
       "output_type": "stream",
       "stream": "stdout",
       "text": [
        "\n",
        "SAX_FGE_15"
       ]
      },
      {
       "output_type": "stream",
       "stream": "stdout",
       "text": [
        "\n",
        "SAX_FGE_16"
       ]
      },
      {
       "output_type": "stream",
       "stream": "stdout",
       "text": [
        "\n",
        "SAX_FGE_17"
       ]
      },
      {
       "output_type": "stream",
       "stream": "stdout",
       "text": [
        "\n",
        "SAX_FGE_18"
       ]
      },
      {
       "output_type": "stream",
       "stream": "stdout",
       "text": [
        "\n",
        "SAX_FGE_19"
       ]
      },
      {
       "output_type": "stream",
       "stream": "stdout",
       "text": [
        "\n",
        "SAX_FGE_20"
       ]
      },
      {
       "output_type": "stream",
       "stream": "stdout",
       "text": [
        "\n",
        "correlation between avg intensity and avg accuracy: r=-0.002, p=0.974 "
       ]
      },
      {
       "output_type": "stream",
       "stream": "stdout",
       "text": [
        "\n",
        "within subject intensity diffs between correct and incorrectly classified items\n",
        "M(SEM)=-0.012(0.072), t(19)=-0.161, p=0.563 (one-tailed) \n"
       ]
      },
      {
       "metadata": {},
       "output_type": "display_data",
       "png": "[encoded data removed]",
       "text": [
        "<matplotlib.figure.Figure at 0x157bc710>"
       ]
      }
     ],
     "prompt_number": 15
    },
    {
     "cell_type": "code",
     "collapsed": false,
     "input": [],
     "language": "python",
     "metadata": {},
     "outputs": []
    }
   ],
   "metadata": {}
  }
 ]
}