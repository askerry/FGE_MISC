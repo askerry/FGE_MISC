{
 "metadata": {
  "name": "",
  "signature": "sha256:fec2fb75cc2b66163e52bf22cb0ce15d3a91f6c5577e6dda0f65f702b050b434"
 },
 "nbformat": 3,
 "nbformat_minor": 0,
 "worksheets": [
  {
   "cells": [
    {
     "cell_type": "code",
     "collapsed": false,
     "input": [
      "import os\n",
      "import sys\n",
      "sys.path.append('/software/python/anaconda/lib/python2.7/site-packages/') #for h5py\n",
      "import glob\n",
      "import numpy as np\n",
      "import scipy.io\n",
      "import h5py\n",
      "import pandas as pd"
     ],
     "language": "python",
     "metadata": {},
     "outputs": [],
     "prompt_number": 29
    },
    {
     "cell_type": "code",
     "collapsed": false,
     "input": [
      "rootdir='/mindhive/saxelab/scripts/aesscripts/FGE_MISC/data/'\n",
      "savefile=os.path.join(rootdir,'stimdata','behavioralintensity.csv')\n",
      "behavedir=os.path.join('/mindhive/saxelab2/FGE/', 'behavioural')\n",
      "stimfile=os.path.join(rootdir, 'stimdata','FGE_stims.csv')\n",
      "behavioralfiles=glob.glob(os.path.join(behavedir, 'SAX_FGE_*.FGE_main.*.mat'))"
     ],
     "language": "python",
     "metadata": {},
     "outputs": [],
     "prompt_number": 30
    },
    {
     "cell_type": "code",
     "collapsed": false,
     "input": [
      "def extractbehave(bf):\n",
      "    '''loads a behavioral file, returns behavioral dict. so many hacks because interfacing with .mat files is hell!'''\n",
      "    #some .mats require the h5py, whereas others require scipy. lord knows why.\n",
      "    try:\n",
      "        b = scipy.io.loadmat(bf)\n",
      "    except:\n",
      "        try:\n",
      "            b = hdfbehaveextract(bf)\n",
      "        except:\n",
      "            b = hdfbehaveextract2(bf)\n",
      "    for key in b.keys():\n",
      "        try:\n",
      "            b[key] = list(b[key].squeeze())\n",
      "        except:\n",
      "            pass\n",
      "    return b\n",
      "\n",
      "\n",
      "def hdfbehaveextract(bf):\n",
      "    '''function to extract .mats using h5py. output should be a dict with items corresponding to .mat structure fields, just as would be returned by scipy.io.loadmat'''\n",
      "    bhdf = h5py.File(bf, 'r')\n",
      "    bips = int(bhdf['ips'][0][0])\n",
      "    brt = [float(el) for el in bhdf['RT'][0]]\n",
      "    brun = [int(el) for el in bhdf['run'][0]]\n",
      "    bkey = [int(el) for el in bhdf['key'][0]]\n",
      "    stims_unicode = [bhdf[el] for el in bhdf['item_orders'][0]]\n",
      "    bitem_orders = []\n",
      "    bspm_i = bhdf['spm_inputs']\n",
      "    numconditions = len(bspm_i['name'])\n",
      "    bspm_inputs = []\n",
      "    for c in range(numconditions):\n",
      "        onsets = bhdf[bspm_i['ons'][c][0]]\n",
      "        onsets = np.array([[float(el)] for el in onsets[0]])\n",
      "        durations = bhdf[bspm_i['dur'][c][0]]\n",
      "        durations = np.array([[el] for el in durations[0]])\n",
      "        condition = ''.join(unichr(i[0]) for i in bhdf[bspm_i['name'][c][0]])\n",
      "        row = ([condition], onsets, durations)\n",
      "        bspm_inputs.append(row)\n",
      "    bspm_inputs = bspm_inputs\n",
      "    for stim in stims_unicode:\n",
      "        bitem_orders.append([u''.join(unichr(i[0]) for i in stim)])\n",
      "    b = {'ips': bips, 'spm_inputs': bspm_inputs, 'RT': brt, 'item_orders': bitem_orders, 'run': brun, 'key': bkey}\n",
      "    return b\n",
      "\n",
      "\n",
      "def hdfbehaveextract2(bf):\n",
      "    '''function to extract .mats using h5py. output should be a dict with items corresponding to .mat structure fields, just as would be returned by scipy.io.loadmat'''\n",
      "    bhdf = h5py.File(bf, 'r')\n",
      "    bips = int(bhdf['ips'][0][0])\n",
      "    brt = [float(el) for el in bhdf['RT'][0]]\n",
      "    brun = [int(el) for el in bhdf['run'][0]]\n",
      "    bkey = [int(el) for el in bhdf['key'][0]]\n",
      "    stims_unicode = bhdf['item_orders']\n",
      "    numtrials = stims_unicode.shape[1]\n",
      "    bitem_orders = []\n",
      "    for trial in range(numtrials):\n",
      "        bitem_orders.append([u''.join(unichr(i[trial]) for i in stims_unicode.value)])\n",
      "    bspm_i = bhdf['spm_inputs']\n",
      "    numconditions = len(bspm_i['name'])\n",
      "    bspm_inputs = []\n",
      "    for c in range(numconditions):\n",
      "        onsets = bhdf[bspm_i['ons'][c][0]]\n",
      "        onsets = np.array([[float(el)] for el in onsets[0]])\n",
      "        durations = bhdf[bspm_i['dur'][c][0]]\n",
      "        durations = np.array([[el] for el in durations[0]])\n",
      "        condition = ''.join(unichr(i[0]) for i in bhdf[bspm_i['name'][c][0]])\n",
      "        row = ([condition], onsets, durations)\n",
      "        bspm_inputs.append(row)\n",
      "    bspm_inputs = bspm_inputs\n",
      "    b = {'ips': bips, 'spm_inputs': bspm_inputs, 'RT': brt, 'item_orders': bitem_orders, 'run': brun, 'key': bkey}\n",
      "    return b"
     ],
     "language": "python",
     "metadata": {},
     "outputs": [],
     "prompt_number": 31
    },
    {
     "cell_type": "code",
     "collapsed": false,
     "input": [
      "subjects, items, intensities=[],[],[]\n",
      "for bf in behavioralfiles:\n",
      "    b = extractbehave(bf)\n",
      "    subjid=bf[len(behavedir)+1:len(behavedir)+11]\n",
      "    subjects.extend([subjid for i in b['item_orders']])\n",
      "    if type(b['item_orders'][0])!=list:\n",
      "        itemlist=[el for el in b['item_orders']]\n",
      "    else:\n",
      "        itemlist=[el[0] for el in b['item_orders']]\n",
      "    items.extend(itemlist)\n",
      "    intensities.extend(b['key'])\n",
      "intensitydf=pd.DataFrame(data={'subjid':subjects, 'items':items, 'intensities':intensities})"
     ],
     "language": "python",
     "metadata": {},
     "outputs": [],
     "prompt_number": 32
    },
    {
     "cell_type": "code",
     "collapsed": false,
     "input": [
      "def fillqnum(qnum):\n",
      "    if qnum<10:\n",
      "        nqnum='q00%.0f' %qnum\n",
      "    elif qnum<100:\n",
      "        nqnum='q0%.0f' %qnum\n",
      "    else:\n",
      "        nqnum='q%.0f' %qnum\n",
      "    return nqnum\n",
      "mapping=pd.read_csv(stimfile)[['stimname', 'qnum']]\n",
      "mapping['qnum']=mapping['qnum'].apply(fillqnum)\n",
      "mappingdict={row.stimname:row.qnum for index,row in mapping.iterrows()}"
     ],
     "language": "python",
     "metadata": {},
     "outputs": [],
     "prompt_number": 33
    },
    {
     "cell_type": "code",
     "collapsed": false,
     "input": [
      "def addqnum(itemname, mappingdict=None):\n",
      "    qnum=mappingdict[itemname]\n",
      "    return 'q%.0f' % int(qnum[1:])\n",
      "def checkpain(item):\n",
      "    return not 'PAI' in item\n",
      "intensitydf=intensitydf[intensitydf['items'].apply(checkpain)]\n",
      "intensitydf['qnum']=intensitydf['items'].apply(addqnum, mappingdict=mappingdict)\n",
      "    "
     ],
     "language": "python",
     "metadata": {},
     "outputs": [],
     "prompt_number": 35
    },
    {
     "cell_type": "code",
     "collapsed": false,
     "input": [
      "intensitydf.to_csv(savefile)"
     ],
     "language": "python",
     "metadata": {},
     "outputs": [],
     "prompt_number": 46
    },
    {
     "cell_type": "code",
     "collapsed": false,
     "input": [],
     "language": "python",
     "metadata": {},
     "outputs": [],
     "prompt_number": 21
    },
    {
     "cell_type": "code",
     "collapsed": false,
     "input": [],
     "language": "python",
     "metadata": {},
     "outputs": []
    }
   ],
   "metadata": {}
  }
 ]
}