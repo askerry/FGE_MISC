{
 "metadata": {
  "name": "",
  "signature": "sha256:fd6739fe2631cf8a9a4fe03ff6d5e38e5285307deb1b39b82a17a93e2a5d36bc"
 },
 "nbformat": 3,
 "nbformat_minor": 0,
 "worksheets": [
  {
   "cells": [
    {
     "cell_type": "code",
     "collapsed": false,
     "input": [
      "pylab inline"
     ],
     "language": "python",
     "metadata": {},
     "outputs": [
      {
       "output_type": "stream",
       "stream": "stdout",
       "text": [
        "Populating the interactive namespace from numpy and matplotlib\n"
       ]
      }
     ],
     "prompt_number": 1
    },
    {
     "cell_type": "code",
     "collapsed": false,
     "input": [
      "%load_ext autoreload"
     ],
     "language": "python",
     "metadata": {},
     "outputs": [],
     "prompt_number": 2
    },
    {
     "cell_type": "code",
     "collapsed": false,
     "input": [
      "%autoreload\n",
      "import sys\n",
      "import matplotlib.pyplot as plt\n",
      "sys.path.append('/mindhive/saxelab/u/askerry/mypythonenv/lib/python2.7/site-packages/PyMVPA/') #for pymvpa\n",
      "sys.path.append('/mindhive/saxelab/scripts/aesscripts/') #for mypymvpa\n",
      "sys.path.insert(0,'/software/nipy-repo/nipy-suite/nibabel') #insert this so it gets used instead of nibabel in mypythonenv\n",
      "sys.path.append('/software/python/anaconda/lib/python2.7/site-packages/') #for h5py\n",
      "import numpy as np\n",
      "import datetime\n",
      "import pickle\n",
      "import scipy\n",
      "import h5py\n",
      "from copy import deepcopy\n",
      "import os\n",
      "from mypymvpa.utilities.misc import makeIDs\n",
      "import mypymvpa.utilities.misc as mum\n",
      "import mypymvpa.utilities.visualization as mviz\n",
      "from mypymvpa.utilities.hardcodedexpparams import FGE_s,FGE_d,FGE_ds,FGE_rois\n",
      "from mypymvpa.analysisobjs.mainobjs import Experiment\n",
      "from mypymvpa.analysisobjs.dataset_funcs import preprocess, prepconfigV2\n",
      "import pyanal.RSA_funcs as rsaf\n",
      "import FGE_MISC.code.config as cfg\n",
      "import itertools\n",
      "from joblib import Parallel, delayed  \n",
      "import multiprocessing\n",
      "num_cores = multiprocessing.cpu_count()\n",
      "print \"%s cores available for parallel processing\" % num_cores"
     ],
     "language": "python",
     "metadata": {},
     "outputs": [
      {
       "output_type": "stream",
       "stream": "stdout",
       "text": [
        "64 cores available for parallel processing\n"
       ]
      }
     ],
     "prompt_number": 3
    },
    {
     "cell_type": "code",
     "collapsed": false,
     "input": [
      "#hard coding\n",
      "rootdir='/mindhive/saxelab2/FGE/'\n",
      "conditions=[rsaf.abb[emo] for emo in cfg.cfg.orderedemos]\n",
      "subjlist=makeIDs('FGE',[1,2,3,4,5,6,7,8,9,10,11,12,13,14,15,16,17,18,19,20,21,22])\n",
      "print subjlist"
     ],
     "language": "python",
     "metadata": {},
     "outputs": [
      {
       "output_type": "stream",
       "stream": "stdout",
       "text": [
        "['SAX_FGE_01', 'SAX_FGE_02', 'SAX_FGE_03', 'SAX_FGE_04', 'SAX_FGE_05', 'SAX_FGE_06', 'SAX_FGE_07', 'SAX_FGE_08', 'SAX_FGE_09', 'SAX_FGE_10', 'SAX_FGE_11', 'SAX_FGE_12', 'SAX_FGE_13', 'SAX_FGE_14', 'SAX_FGE_15', 'SAX_FGE_16', 'SAX_FGE_17', 'SAX_FGE_18', 'SAX_FGE_19', 'SAX_FGE_20', 'SAX_FGE_21', 'SAX_FGE_22']\n"
       ]
      }
     ],
     "prompt_number": 4
    },
    {
     "cell_type": "code",
     "collapsed": false,
     "input": [
      "#config details\n",
      "%autoreload\n",
      "colorbyrank=False\n",
      "groupbootstraperrors=True\n",
      "runindsubjects=False # if True, will recompute individual subject neural RDMs\n",
      "runtc=False"
     ],
     "language": "python",
     "metadata": {},
     "outputs": [],
     "prompt_number": 21
    },
    {
     "cell_type": "code",
     "collapsed": false,
     "input": [
      "# define the experiment or load a saved exp\n",
      "savesuffix='RSAfinal'#\"_matched_rois\" #tag on the exp object\n",
      "savetag='_RSAfinal'#'_matched_rois' #tag on the individual subject savedir\n",
      "e=Experiment(study='FGE',boldsorbetas='bolds',trshift=5, duration=6, subjects=subjlist, printit=0, saveind=True, task='FGE_main', stimvalues = {}, ips=221, subjinfofile = ['/mindhive/saxelab2/FGE/FGE_subject_taskruns.mat','f'],subjvalues={'inddiffs':'inddiffs/FGE_inddiffs.csv'}, savesuffix = savesuffix)\n",
      "e.discriminations=FGE_d\n",
      "e.selectors={'evenodd':{'evenodd':[[1],[0]]}}\n",
      "roidict=FGE_rois#EIB_mrois\n",
      "roispecs=e.specifyrois(roidirs=roidict['dirs'], roifiles=roidict['files'], roinames=roidict['rois'])\n",
      "e.saveexp()\n",
      "#e=mum.loadpickledobject(filename)"
     ],
     "language": "python",
     "metadata": {},
     "outputs": [
      {
       "output_type": "stream",
       "stream": "stdout",
       "text": [
        "loading file: /mindhive/saxelab2/FGE/FGE_subject_taskruns.mat as subjinfo\n",
        "adding the following rois:"
       ]
      },
      {
       "output_type": "stream",
       "stream": "stdout",
       "text": [
        "\n",
        "RTPJ_tomloc_with_art_reg_results_normed_con01_xyz.img\n",
        "LTPJ_tomloc_with_art_reg_results_normed_con01_xyz.img\n",
        "RSTS_tomloc_with_art_reg_results_normed_con01_xyz.img\n",
        "PC_tomloc_with_art_reg_results_normed_con01_xyz.img\n",
        "DMPFC_tomloc_with_art_reg_results_normed_con01_xyz.img\n",
        "MMPFC_tomloc_with_art_reg_results_normed_con01_xyz.img\n",
        "VMPFC_tomloc_with_art_reg_results_normed_con01_xyz.img\n",
        "alltomrois.img\n",
        "saved experiment to /mindhive/saxelab2/FGE/pymvparesults/ExpObj_FGE_main_boldsRSAfinal.pkl\n"
       ]
      }
     ],
     "prompt_number": 7
    },
    {
     "cell_type": "code",
     "collapsed": false,
     "input": [
      "#define relevant paths\n",
      "analdir=os.path.join(rootdir,'pymvparesults','Results_%s/' %(savesuffix))\n",
      "svmerrorfiles_group=os.path.join(rootdir,'pymvparesults', 'itemwise','<roi>_allemos_itemresults.pkl')\n",
      "svmerrorfiles_ind=os.path.join(rootdir,'pymvparesults', 'itemwise','<roi>_allemos_itemresults_<subject>.pkl')\n",
      "datadir='/mindhive/saxelab/scripts/aesscripts/FGE_MISC/similarityspaces'\n",
      "#matrixinfofile=os.path.join(datadir,'RSAmatrixinfo.pkl')\n",
      "rdmfile=os.path.join(datadir,'comparisonRDMs.pkl')"
     ],
     "language": "python",
     "metadata": {},
     "outputs": [],
     "prompt_number": 23
    },
    {
     "cell_type": "code",
     "collapsed": false,
     "input": [
      "#limit to subsets if desired\n",
      "disc='allemos'\n",
      "sel='evenodd'\n",
      "roilist=e.roinames\n",
      "#roilist=['ToM_network']\n",
      "runthemnowlist=subjlist"
     ],
     "language": "python",
     "metadata": {},
     "outputs": [],
     "prompt_number": 30
    },
    {
     "cell_type": "code",
     "collapsed": false,
     "input": [
      "#specify analysis configuration\n",
      "configspec={'hpfilter':1, 'detrend':'full', 'zscore':1,\n",
      "            'averaging':'singletrials', 'clfname':'RSA',\n",
      "            'removearts':'tpoint', 'featureselect':{'type':None}, \n",
      "            'similarity':'euclidean', 'transformed':True, \n",
      "            'corrtype':'kendallstau', 'symmetrical':False, \n",
      "            'testtype':'wilcoxin', 'num_samples':100,\n",
      "            'plotindsubjs':False, 'neuraltype':'rawsim', \n",
      "            'mflag':''}\n",
      "###options###\n",
      "#neuraltype: 'rawsim', 'svmerrors'\n",
      "#similarity: 'euclidean', 'pearsonr'\n",
      "#'mflag':'item', 'None', ''\n",
      "#transformed: True or False\n",
      "#hpfilter: 1 or 0 (default=1)\n",
      "#detrend: 'full', 'runs', 'both', None (default='full')\n",
      "#zscore 1 or 0 (default=1)\n",
      "#averaging: 'singletrials', 'foldwise', None (default='singletrials')\n",
      "#removearts: 'tpoint', 'trial', None (default='tpoint')\n",
      "#clfname:'SVM', 'skSVM' (default='SVM')\n",
      "#featureselect: {'type':'activity', 'percentage':None, 'number':80},  {'type':'conditiondiff', 'percentage':None, 'number':80}, {'type':None} (default={'type':'activity', 'percentage':None, 'number':80})"
     ],
     "language": "python",
     "metadata": {},
     "outputs": [],
     "prompt_number": 25
    },
    {
     "cell_type": "code",
     "collapsed": false,
     "input": [
      "#load models\n",
      "with open(rdmfile, 'r') as inputfile:\n",
      "    rdmdicts = pickle.load(inputfile)\n",
      "modelRDMs={}\n",
      "for key in rdmdicts.keys():\n",
      "    modelRDMs[key]=rdmdicts[key]['simmat_across']\n",
      "modelkeys=modelRDMs.keys()\n",
      "#modelkeys=[] #or define your own ordering"
     ],
     "language": "python",
     "metadata": {},
     "outputs": [],
     "prompt_number": 26
    },
    {
     "cell_type": "code",
     "collapsed": false,
     "input": [
      "%autoreload\n",
      "runtc=False\n",
      "windowdur=2\n",
      "tcrange=(0,12)\n",
      "tcobjs=rsaf.timecourseanalysis(e, conditions, windowdur, tcrange, roilist, subjlist, configspec=configspec, analdir=analdir, modelkeys=modelkeys, modelRDMs=modelRDMs, disc=disc, savetag=savetag, runindsubjects=runtc)\n",
      "mum.picklethisobject(os.path.join(analdir, 'timecourse', 'tcobjs.pkl'), tcobjs)"
     ],
     "language": "python",
     "metadata": {},
     "outputs": [
      {
       "output_type": "stream",
       "stream": "stdout",
       "text": [
        "computing neural x model correlations at each timepoint (2 sec windows)\n",
        "[0, 1, 2, 3, 4, 5, 6, 7, 8, 9, 10, 11]\n",
        "working on timepoint 0\n",
        "ToM_network"
       ]
      },
      {
       "output_type": "stream",
       "stream": "stdout",
       "text": [
        "\n",
        "computing individual subject neural RDMs...\n",
        "finished allemos, evenodd, ToM_network"
       ]
      },
      {
       "output_type": "stream",
       "stream": "stdout",
       "text": [
        "\n",
        "working on timepoint 1"
       ]
      },
      {
       "output_type": "stream",
       "stream": "stdout",
       "text": [
        "\n",
        "ToM_network"
       ]
      },
      {
       "output_type": "stream",
       "stream": "stdout",
       "text": [
        "\n",
        "computing individual subject neural RDMs...\n",
        "finished allemos, evenodd, ToM_network"
       ]
      },
      {
       "output_type": "stream",
       "stream": "stdout",
       "text": [
        "\n",
        "working on timepoint 2"
       ]
      },
      {
       "output_type": "stream",
       "stream": "stdout",
       "text": [
        "\n",
        "ToM_network"
       ]
      },
      {
       "output_type": "stream",
       "stream": "stdout",
       "text": [
        "\n",
        "computing individual subject neural RDMs...\n",
        "finished allemos, evenodd, ToM_network"
       ]
      },
      {
       "output_type": "stream",
       "stream": "stdout",
       "text": [
        "\n",
        "working on timepoint 3"
       ]
      },
      {
       "output_type": "stream",
       "stream": "stdout",
       "text": [
        "\n",
        "ToM_network"
       ]
      },
      {
       "output_type": "stream",
       "stream": "stdout",
       "text": [
        "\n",
        "computing individual subject neural RDMs...\n",
        "finished allemos, evenodd, ToM_network"
       ]
      },
      {
       "output_type": "stream",
       "stream": "stdout",
       "text": [
        "\n",
        "working on timepoint 4"
       ]
      },
      {
       "output_type": "stream",
       "stream": "stdout",
       "text": [
        "\n",
        "ToM_network"
       ]
      },
      {
       "output_type": "stream",
       "stream": "stdout",
       "text": [
        "\n",
        "computing individual subject neural RDMs...\n",
        "finished allemos, evenodd, ToM_network"
       ]
      },
      {
       "output_type": "stream",
       "stream": "stdout",
       "text": [
        "\n",
        "working on timepoint 5"
       ]
      },
      {
       "output_type": "stream",
       "stream": "stdout",
       "text": [
        "\n",
        "ToM_network"
       ]
      },
      {
       "output_type": "stream",
       "stream": "stdout",
       "text": [
        "\n",
        "computing individual subject neural RDMs...\n",
        "finished allemos, evenodd, ToM_network"
       ]
      },
      {
       "output_type": "stream",
       "stream": "stdout",
       "text": [
        "\n",
        "working on timepoint 6"
       ]
      },
      {
       "output_type": "stream",
       "stream": "stdout",
       "text": [
        "\n",
        "ToM_network"
       ]
      },
      {
       "output_type": "stream",
       "stream": "stdout",
       "text": [
        "\n",
        "computing individual subject neural RDMs...\n",
        "finished allemos, evenodd, ToM_network"
       ]
      },
      {
       "output_type": "stream",
       "stream": "stdout",
       "text": [
        "\n",
        "working on timepoint 7"
       ]
      },
      {
       "output_type": "stream",
       "stream": "stdout",
       "text": [
        "\n",
        "ToM_network"
       ]
      },
      {
       "output_type": "stream",
       "stream": "stdout",
       "text": [
        "\n",
        "computing individual subject neural RDMs...\n",
        "finished allemos, evenodd, ToM_network"
       ]
      },
      {
       "output_type": "stream",
       "stream": "stdout",
       "text": [
        "\n",
        "working on timepoint 8"
       ]
      },
      {
       "output_type": "stream",
       "stream": "stdout",
       "text": [
        "\n",
        "ToM_network"
       ]
      },
      {
       "output_type": "stream",
       "stream": "stdout",
       "text": [
        "\n",
        "computing individual subject neural RDMs...\n",
        "finished allemos, evenodd, ToM_network"
       ]
      },
      {
       "output_type": "stream",
       "stream": "stdout",
       "text": [
        "\n",
        "working on timepoint 9"
       ]
      },
      {
       "output_type": "stream",
       "stream": "stdout",
       "text": [
        "\n",
        "ToM_network"
       ]
      },
      {
       "output_type": "stream",
       "stream": "stdout",
       "text": [
        "\n",
        "computing individual subject neural RDMs...\n",
        "finished allemos, evenodd, ToM_network"
       ]
      },
      {
       "output_type": "stream",
       "stream": "stdout",
       "text": [
        "\n",
        "working on timepoint 10"
       ]
      },
      {
       "output_type": "stream",
       "stream": "stdout",
       "text": [
        "\n",
        "ToM_network"
       ]
      },
      {
       "output_type": "stream",
       "stream": "stdout",
       "text": [
        "\n",
        "computing individual subject neural RDMs...\n",
        "finished allemos, evenodd, ToM_network"
       ]
      },
      {
       "output_type": "stream",
       "stream": "stdout",
       "text": [
        "\n",
        "working on timepoint 11"
       ]
      },
      {
       "output_type": "stream",
       "stream": "stdout",
       "text": [
        "\n",
        "ToM_network"
       ]
      },
      {
       "output_type": "stream",
       "stream": "stdout",
       "text": [
        "\n",
        "computing individual subject neural RDMs...\n",
        "finished allemos, evenodd, ToM_network"
       ]
      },
      {
       "output_type": "stream",
       "stream": "stdout",
       "text": [
        "\n"
       ]
      }
     ],
     "prompt_number": 40
    },
    {
     "cell_type": "raw",
     "metadata": {},
     "source": [
      "#to deal with classes getting out of date\n",
      "newtcobjs=mum.updateobj(tcobjs, rsaf.TimecourseRSA, [],[windowdur, tcrange])\n",
      "newroi_summaries=mum.updateobj(roi_summaries, rsaf.ROIsummary, ['roi'], [modelkeys, configspec['mflag']])"
     ]
    },
    {
     "cell_type": "code",
     "collapsed": false,
     "input": [],
     "language": "python",
     "metadata": {},
     "outputs": [],
     "prompt_number": 18
    }
   ],
   "metadata": {}
  }
 ]
}