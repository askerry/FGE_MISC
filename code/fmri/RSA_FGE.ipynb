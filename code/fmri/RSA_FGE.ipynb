{
 "metadata": {
  "name": "",
  "signature": "sha256:7080061b9bb90f633528a041ee86de2afc1fa8c3c7ef85e23524d56d4755bf28"
 },
 "nbformat": 3,
 "nbformat_minor": 0,
 "worksheets": [
  {
   "cells": [
    {
     "cell_type": "code",
     "collapsed": false,
     "input": [
      "pylab inline"
     ],
     "language": "python",
     "metadata": {},
     "outputs": [
      {
       "output_type": "stream",
       "stream": "stdout",
       "text": [
        "Populating the interactive namespace from numpy and matplotlib\n"
       ]
      }
     ],
     "prompt_number": 2
    },
    {
     "cell_type": "code",
     "collapsed": false,
     "input": [
      "%load_ext autoreload"
     ],
     "language": "python",
     "metadata": {},
     "outputs": [],
     "prompt_number": 3
    },
    {
     "cell_type": "code",
     "collapsed": false,
     "input": [
      "%autoreload\n",
      "import sys\n",
      "import matplotlib.pyplot as plt\n",
      "sys.path.append('/mindhive/saxelab/u/askerry/mypythonenv/lib/python2.7/site-packages/PyMVPA/') #for pymvpa\n",
      "sys.path.append('/mindhive/saxelab/scripts/aesscripts/') #for mypymvpa\n",
      "sys.path.insert(0,'/software/nipy-repo/nipy-suite/nibabel') #insert this so it gets used instead of nibabel in mypythonenv\n",
      "sys.path.append('/software/python/anaconda/lib/python2.7/site-packages/') #for h5py\n",
      "import numpy as np\n",
      "import datetime\n",
      "import pickle\n",
      "import scipy\n",
      "import h5py\n",
      "from copy import deepcopy\n",
      "import os\n",
      "from mypymvpa.utilities.misc import makeIDs\n",
      "import mypymvpa.utilities.misc as mum\n",
      "import mypymvpa.utilities.visualization as mviz\n",
      "from mypymvpa.utilities.hardcodedexpparams import FGE_s,FGE_d,FGE_ds,FGE_rois\n",
      "from mypymvpa.analysisobjs.mainobjs import Experiment\n",
      "from mypymvpa.analysisobjs.dataset_funcs import preprocess, prepconfigV2\n",
      "import pyanal.RSA_funcs as rsaf\n",
      "import FGE_MISC.code.config as cfg\n",
      "from joblib import Parallel, delayed  \n",
      "import multiprocessing\n",
      "num_cores = multiprocessing.cpu_count()\n",
      "print \"%s cores available for parallel processing\" % num_cores"
     ],
     "language": "python",
     "metadata": {},
     "outputs": [
      {
       "output_type": "stream",
       "stream": "stdout",
       "text": [
        "64 cores available for parallel processing\n"
       ]
      }
     ],
     "prompt_number": 4
    },
    {
     "cell_type": "code",
     "collapsed": false,
     "input": [
      "#hard coding\n",
      "rootdir='/mindhive/saxelab2/FGE/'\n",
      "conditions=[rsaf.abb[emo] for emo in cfg.cfg.orderedemos]\n",
      "subjlist=makeIDs('FGE',[1,2,3,4,5,6,7,8,9,10,11,12,13,14,15,16,17,18,19,20,21,22])\n",
      "print subjlist"
     ],
     "language": "python",
     "metadata": {},
     "outputs": [
      {
       "output_type": "stream",
       "stream": "stdout",
       "text": [
        "['SAX_FGE_01', 'SAX_FGE_02', 'SAX_FGE_03', 'SAX_FGE_04', 'SAX_FGE_05', 'SAX_FGE_06', 'SAX_FGE_07', 'SAX_FGE_08', 'SAX_FGE_09', 'SAX_FGE_10', 'SAX_FGE_11', 'SAX_FGE_12', 'SAX_FGE_13', 'SAX_FGE_14', 'SAX_FGE_15', 'SAX_FGE_16', 'SAX_FGE_17', 'SAX_FGE_18', 'SAX_FGE_19', 'SAX_FGE_20', 'SAX_FGE_21', 'SAX_FGE_22']\n"
       ]
      }
     ],
     "prompt_number": 5
    },
    {
     "cell_type": "code",
     "collapsed": false,
     "input": [
      "#config details\n",
      "%autoreload\n",
      "colorbyrank=False\n",
      "groupbootstraperrors=False\n",
      "runindsubjects=False # if True, will recompute individual subject neural RDMs\n",
      "runtc=False"
     ],
     "language": "python",
     "metadata": {},
     "outputs": [],
     "prompt_number": 5
    },
    {
     "cell_type": "code",
     "collapsed": false,
     "input": [
      "# define the experiment or load a saved exp\n",
      "savesuffix='RSA'#\"_matched_rois\" #tag on the exp object\n",
      "savetag='_RSA'#'_matched_rois' #tag on the individual subject savedir\n",
      "e=Experiment(study='FGE',boldsorbetas='bolds',trshift=5, duration=6, subjects=subjlist, printit=0, saveind=True, task='FGE_main', stimvalues = {}, ips=221, subjinfofile = ['/mindhive/saxelab2/FGE/FGE_subject_taskruns.mat','f'],subjvalues={'inddiffs':'inddiffs/FGE_inddiffs.csv'}, savesuffix = savesuffix)\n",
      "e.discriminations=FGE_d\n",
      "e.selectors={'evenodd':{'evenodd':[[1],[0]]}}\n",
      "roidict=FGE_rois#EIB_mrois\n",
      "roispecs=e.specifyrois(roidirs=roidict['dirs'], roifiles=roidict['files'], roinames=roidict['rois'])\n",
      "e.saveexp()\n",
      "#e=mum.loadpickledobject(filename)"
     ],
     "language": "python",
     "metadata": {},
     "outputs": [
      {
       "output_type": "stream",
       "stream": "stdout",
       "text": [
        "loading file: /mindhive/saxelab2/FGE/FGE_subject_taskruns.mat as subjinfo\n",
        "adding the following rois:"
       ]
      },
      {
       "output_type": "stream",
       "stream": "stdout",
       "text": [
        "\n",
        "RTPJ_tomloc_with_art_reg_results_normed_con01_xyz.img\n",
        "LTPJ_tomloc_with_art_reg_results_normed_con01_xyz.img\n",
        "RSTS_tomloc_with_art_reg_results_normed_con01_xyz.img\n",
        "PC_tomloc_with_art_reg_results_normed_con01_xyz.img\n",
        "DMPFC_tomloc_with_art_reg_results_normed_con01_xyz.img\n",
        "MMPFC_tomloc_with_art_reg_results_normed_con01_xyz.img\n",
        "VMPFC_tomloc_with_art_reg_results_normed_con01_xyz.img\n",
        "saved experiment to /mindhive/saxelab2/FGE/pymvparesults/ExpObj_FGE_main_boldsRSA.pkl\n"
       ]
      }
     ],
     "prompt_number": 6
    },
    {
     "cell_type": "code",
     "collapsed": false,
     "input": [
      "#define relevant paths\n",
      "analdir=os.path.join(rootdir,'pymvparesults','Results_%s/' %(savesuffix))\n",
      "svmerrorfiles_group=os.path.join(rootdir,'pymvparesults', 'itemwise','<roi>_allemos_itemresults.pkl')\n",
      "svmerrorfiles_ind=os.path.join(rootdir,'pymvparesults', 'itemwise','<roi>_allemos_itemresults_<subject>.pkl')\n",
      "datadir='/mindhive/saxelab/scripts/aesscripts/FGE_MISC/similarityspaces'\n",
      "matrixinfofile=os.path.join(datadir,'RSAmatrixinfo.pkl')\n",
      "rdmfile=os.path.join(datadir,'comparisonRDMs.pkl')"
     ],
     "language": "python",
     "metadata": {},
     "outputs": [],
     "prompt_number": 7
    },
    {
     "cell_type": "code",
     "collapsed": false,
     "input": [
      "#limit to subsets if desired\n",
      "disc='allemos'\n",
      "roilist=e.roinames\n",
      "runthemnowlist=subjlist"
     ],
     "language": "python",
     "metadata": {},
     "outputs": [],
     "prompt_number": 8
    },
    {
     "cell_type": "code",
     "collapsed": false,
     "input": [
      "#specify analysis configuration\n",
      "configspec={'hpfilter':1, 'detrend':'full', 'zscore':1,\n",
      "            'averaging':'singletrials', 'clfname':'RSA',\n",
      "            'removearts':'tpoint', 'featureselect':{'type':None}, \n",
      "            'similarity':'euclidean', 'transformed':True, \n",
      "            'corrtype':'kendallstau', 'symmetrical':False, \n",
      "            'testtype':'wilcoxin', 'num_samples':100,\n",
      "            'plotindsubjs':False, 'neuraltype':'rawsim', \n",
      "            'mflag':''}\n",
      "###options###\n",
      "#neuraltype: 'rawsim', 'svmerrors'\n",
      "#similarity: 'euclidean', 'pearsonr'\n",
      "#'mflag':'item', 'None', ''\n",
      "#transformed: True or False\n",
      "#hpfilter: 1 or 0 (default=1)\n",
      "#detrend: 'full', 'runs', 'both', None (default='full')\n",
      "#zscore 1 or 0 (default=1)\n",
      "#averaging: 'singletrials', 'foldwise', None (default='singletrials')\n",
      "#removearts: 'tpoint', 'trial', None (default='tpoint')\n",
      "#clfname:'SVM', 'skSVM' (default='SVM')\n",
      "#featureselect: {'type':'activity', 'percentage':None, 'number':80},  {'type':'conditiondiff', 'percentage':None, 'number':80}, {'type':None} (default={'type':'activity', 'percentage':None, 'number':80})"
     ],
     "language": "python",
     "metadata": {},
     "outputs": [],
     "prompt_number": 9
    },
    {
     "cell_type": "code",
     "collapsed": false,
     "input": [
      "#load models\n",
      "with open(rdmfile, 'r') as inputfile:\n",
      "    rdmdicts = pickle.load(inputfile)\n",
      "modelRDMs={}\n",
      "for key in rdmdicts.keys():\n",
      "    modelRDMs[key]=rdmdicts[key]['simmat_across']\n",
      "modelkeys=modelRDMs.keys()\n",
      "#modelkeys=[] #or define your own ordering"
     ],
     "language": "python",
     "metadata": {},
     "outputs": [],
     "prompt_number": 10
    },
    {
     "cell_type": "code",
     "collapsed": false,
     "input": [
      "#create a list of subject objects\n",
      "%autoreload\n",
      "subjects=e.makesubjects()"
     ],
     "language": "python",
     "metadata": {},
     "outputs": [],
     "prompt_number": 11
    },
    {
     "cell_type": "code",
     "collapsed": false,
     "input": [
      "#single subject analyses\n",
      "%autoreload\n",
      "grouprdms, groupftcrdms, subdir=rsaf.singlesubjanalysis(e, disc, roilist, subjects, runthemnowlist, runindsubjects, configspec, modelRDMs, conditions, savetag, whichmodels='all', svmerrors=svmerrorfiles_ind)"
     ],
     "language": "python",
     "metadata": {},
     "outputs": [
      {
       "output_type": "stream",
       "stream": "stdout",
       "text": [
        "RTPJ_tomloc\n",
        "loading existing individual subject neural RDMs and computing model correlations\n",
        "finished allemos, evenodd, RTPJ_tomloc"
       ]
      },
      {
       "output_type": "stream",
       "stream": "stdout",
       "text": [
        "\n",
        "LTPJ_tomloc\n",
        "loading existing individual subject neural RDMs and computing model correlations\n",
        "finished allemos, evenodd, LTPJ_tomloc"
       ]
      },
      {
       "output_type": "stream",
       "stream": "stdout",
       "text": [
        "\n",
        "RSTS_tomloc\n",
        "loading existing individual subject neural RDMs and computing model correlations\n",
        "finished allemos, evenodd, RSTS_tomloc"
       ]
      },
      {
       "output_type": "stream",
       "stream": "stdout",
       "text": [
        "\n",
        "PC_tomloc\n",
        "loading existing individual subject neural RDMs and computing model correlations\n",
        "finished allemos, evenodd, PC_tomloc"
       ]
      },
      {
       "output_type": "stream",
       "stream": "stdout",
       "text": [
        "\n",
        "DMPFC_tomloc\n",
        "loading existing individual subject neural RDMs and computing model correlations\n",
        "finished allemos, evenodd, DMPFC_tomloc"
       ]
      },
      {
       "output_type": "stream",
       "stream": "stdout",
       "text": [
        "\n",
        "MMPFC_tomloc\n",
        "loading existing individual subject neural RDMs and computing model correlations\n",
        "finished allemos, evenodd, MMPFC_tomloc"
       ]
      },
      {
       "output_type": "stream",
       "stream": "stdout",
       "text": [
        "\n",
        "VMPFC_tomloc\n",
        "loading existing individual subject neural RDMs and computing model correlations\n",
        "finished allemos, evenodd, VMPFC_tomloc"
       ]
      },
      {
       "output_type": "stream",
       "stream": "stdout",
       "text": [
        "\n"
       ]
      }
     ],
     "prompt_number": 12
    },
    {
     "cell_type": "code",
     "collapsed": false,
     "input": [
      "noiseceilings=rsaf.computenoiseceiling(grouprdms, roilist, configspec)"
     ],
     "language": "python",
     "metadata": {},
     "outputs": [],
     "prompt_number": 13
    },
    {
     "cell_type": "code",
     "collapsed": false,
     "input": [
      "%autoreload\n",
      "#group average RDMs\n",
      "roi_summaries={}\n",
      "for roi in roilist:\n",
      "    roi_summary=rsaf.ROIsummary(roi, modelkeys, mflag=configspec['mflag'], corrtype=configspec['corrtype'])\n",
      "    if configspec['neuraltype']=='rawsim':\n",
      "        roi_summary.grn=np.mean(grouprdms[roi],0) #compute mean of RDMs across subjects\n",
      "        roi_summary.ftcgrn=np.mean(groupftcrdms[roi],0)\n",
      "    else:\n",
      "        f=svmerrorfiles_group.replace('<roi>', roi)\n",
      "        err=mum.loadpickledobject(f)\n",
      "        rdm=-1*np.array(err.confusions['confmatrix'])\n",
      "        rdm=rsaf.transformsimilarities(rdm, configspec['similarity'])\n",
      "        roi_summary.grn=rdm\n",
      "        roi_summary_ftcgrn=None\n",
      "    #mviz.plot_simmtx(roi_summary.ftcgrn, conditions, 'group: %s single timecourse pattern distances (pearsonr)' %(roi),clim=[np.min(roi_summary.grn), np.max(roi_summary.grn)], axislabels=['even', 'odd'])\n",
      "    mviz.plot_simmtx(roi_summary.grn, conditions, 'group: %s crossrun pattern distances (pearsonr)' %(roi),clim=[np.min(roi_summary.grn), np.max(roi_summary.grn)], axislabels=['even', 'odd'])\n",
      "    roi_summaries[roi]=roi_summary"
     ],
     "language": "python",
     "metadata": {},
     "outputs": [
      {
       "output_type": "stream",
       "stream": "stderr",
       "text": [
        "/mindhive/saxelab/u/askerry/mypythonenv/lib/python2.7/site-packages/matplotlib/font_manager.py:1236: UserWarning:\n",
        "\n",
        "findfont: Font family ['Arial'] not found. Falling back to Bitstream Vera Sans\n",
        "\n"
       ]
      },
      {
       "metadata": {},
       "output_type": "display_data",
       "png": "[encoded data removed]",
       "text": [
        "<matplotlib.figure.Figure at 0x6052fd0>"
       ]
      },
      {
       "metadata": {},
       "output_type": "display_data",
       "png": "[encoded data removed]",
       "text": [
        "<matplotlib.figure.Figure at 0x5a71710>"
       ]
      },
      {
       "metadata": {},
       "output_type": "display_data",
       "png": "[encoded data removed]",
       "text": [
        "<matplotlib.figure.Figure at 0xef14110>"
       ]
      },
      {
       "metadata": {},
       "output_type": "display_data",
       "png": "[encoded data removed]",
       "text": [
        "<matplotlib.figure.Figure at 0xe874890>"
       ]
      },
      {
       "metadata": {},
       "output_type": "display_data",
       "png": "[encoded data removed]",
       "text": [
        "<matplotlib.figure.Figure at 0x3519090>"
       ]
      },
      {
       "metadata": {},
       "output_type": "display_data",
       "png": "[encoded data removed]",
       "text": [
        "<matplotlib.figure.Figure at 0xdff4d50>"
       ]
      },
      {
       "metadata": {},
       "output_type": "display_data",
       "png": "[encoded data removed]",
       "text": [
        "<matplotlib.figure.Figure at 0x3510ed0>"
       ]
      }
     ],
     "prompt_number": 14
    },
    {
     "cell_type": "code",
     "collapsed": false,
     "input": [
      "# quick plotting of correlations between neural RDMs across regions\n",
      "%autoreload\n",
      "roirelationmtx=mviz.plotroirelations(roi_summaries, rois=roilist)"
     ],
     "language": "python",
     "metadata": {},
     "outputs": [
      {
       "metadata": {},
       "output_type": "display_data",
       "png": "[encoded data removed]",
       "text": [
        "<matplotlib.figure.Figure at 0x18b1110>"
       ]
      }
     ],
     "prompt_number": 15
    },
    {
     "cell_type": "code",
     "collapsed": false,
     "input": [
      "modelsummaries={}\n",
      "def parsingle(roi, roi_summaries, modelRDMs, configspec, noiseceilings, e, subjects, subdir, disc, printsinglemodelstats=False):\n",
      "    roi_summary=roi_summaries[roi]\n",
      "    corrs, pvals, models, bestmodel, roi_summary=rsaf.relateRDMsgrn(roi_summary, modelRDMs, configspec, plotpermutationfig=False, printit=printsinglemodelstats) #single model, group level (permutation for significance)\n",
      "    modelsummary, roi_summary=rsaf.singlemodelRFX(e,roi_summary,[m for m in modelkeys if configspec['mflag'] in m], subjects, subdir, disc, errorbars='withinsubj', printit=printsinglemodelstats, corrtype=configspec['corrtype'], testtype=configspec['testtype']) #single model, RFX across participants\n",
      "    if groupbootstraperrors:\n",
      "        bsmodelcorrs=rsaf.bootstrapfromconditions(disc, modelRDMs, roi_summary.grn, configspec, printit=printsinglemodelstats) #bsmodelcorrs=rsaf.bootstrapfromstimuli(e, disc, subjects, configspec, modelRDMs, conditions)\n",
      "    for modelname in modelRDMs.keys():\n",
      "        modelindex=models.index(modelname)    \n",
      "        if groupbootstraperrors:\n",
      "            bsMean, bsSEM, upperbound, lowerbound=rsaf.singlemodelRDM_bootstraperror(roi, modelname,bsmodelcorrs, alpha=0.05, plotit=False, observed=corrs[modelindex], printit=printsinglemodelstats)\n",
      "            roi_summary.add_grn2models(modelname, corrs[modelindex], permutation_pval=pvals[modelindex], bootstrap_CI=[lowerbound,upperbound], bootstrap_SEM=bsSEM)\n",
      "        else:\n",
      "            roi_summary.add_grn2models(modelname, corrs[modelindex], permutation_pval=pvals[modelindex])\n",
      "    roi_summary.noiseceiling=noiseceilings[roi]\n",
      "    roi_summary.benchmark=roi_summary.grn2modelsRFX['NDEconfmat_rdm']['corr']\n",
      "    return modelsummary, roi_summary\n",
      "parRFX = Parallel(n_jobs=num_cores)(delayed(parsingle)(roi, roi_summaries, modelRDMs, configspec, noiseceilings, e, subjects, subdir, disc) for roi in roilist)  \n",
      "for roin,roi in enumerate(roilist):\n",
      "    modelsummaries[roi]=parRFX[roin][0]\n",
      "    roi_summaries[roi]=parRFX[roin][1]"
     ],
     "language": "python",
     "metadata": {},
     "outputs": []
    },
    {
     "cell_type": "raw",
     "metadata": {},
     "source": [
      "%autoreload\n",
      "#non parallel\n",
      "#single model statistics\n",
      "printsinglemodelstats=False\n",
      "modelsummaries={}\n",
      "for roi in roilist:\n",
      "    roi_summary=roi_summaries[roi]\n",
      "    corrs, pvals, models, bestmodel, roi_summary=rsaf.relateRDMsgrn(roi_summary, modelRDMs, configspec, plotpermutationfig=False, printit=printsinglemodelstats) #single model, group level (permutation for significance)\n",
      "    modelsummaries[roi], roi_summaries[roi]=rsaf.singlemodelRFX(e,roi_summary,[m for m in modelkeys if configspec['mflag'] in m], subjects, subdir, disc, errorbars='withinsubj', printit=printsinglemodelstats, corrtype=configspec['corrtype'], testtype=configspec['testtype']) #single model, RFX across participants\n",
      "    if groupbootstraperrors:\n",
      "        bsmodelcorrs=rsaf.bootstrapfromconditions(disc, modelRDMs, roi_summary.grn, configspec, printit=printsinglemodelstats) #bsmodelcorrs=rsaf.bootstrapfromstimuli(e, disc, subjects, configspec, modelRDMs, conditions)\n",
      "    for modelname in modelRDMs.keys():\n",
      "        modelindex=models.index(modelname)    \n",
      "        if groupbootstraperrors:\n",
      "            bsMean, bsSEM, upperbound, lowerbound=rsaf.singlemodelRDM_bootstraperror(roi, modelname,bsmodelcorrs, alpha=0.05, plotit=False, observed=corrs[modelindex], printit=printsinglemodelstats)\n",
      "            roi_summary.add_grn2models(modelname, corrs[modelindex], permutation_pval=pvals[modelindex], bootstrap_CI=[lowerbound,upperbound], bootstrap_SEM=bsSEM)\n",
      "        else:\n",
      "            roi_summary.add_grn2models(modelname, corrs[modelindex], permutation_pval=pvals[modelindex])\n",
      "    roi_summary.noiseceiling=noiseceilings[roi]\n",
      "    roi_summary.benchmark=roi_summary.grn2modelsRFX['NDEconfmat_rdm']['corr']\n",
      "    roi_summaries[roi]=roi_summary"
     ]
    },
    {
     "cell_type": "code",
     "collapsed": false,
     "input": [
      "%autoreload\n",
      "comparisontype1='RFXsubjects'\n",
      "comparisontype2='condbootstrap'#'condbootstrap'#'RFXsubjects'\n",
      "for roi in roilist:\n",
      "    roi_summaries[roi]=rsaf.comparemodels(comparisontype1, e, disc, roi_summaries[roi], subjects, modelsummaries[roi], configspec, modelRDMs, conditions, printit=False)\n",
      "    roi_summaries[roi]=rsaf.comparemodels(comparisontype2, e, disc, roi_summaries[roi], subjects, modelsummaries[roi], configspec, modelRDMs, conditions, printit=False)\n"
     ],
     "language": "python",
     "metadata": {},
     "outputs": [
      {
       "output_type": "stream",
       "stream": "stdout",
       "text": [
        "performing bootstrapping for errorbars (conditions)\n",
        "performing bootstrapping for errorbars (conditions)"
       ]
      },
      {
       "output_type": "stream",
       "stream": "stdout",
       "text": [
        "\n",
        "performing bootstrapping for errorbars (conditions)"
       ]
      },
      {
       "output_type": "stream",
       "stream": "stdout",
       "text": [
        "\n",
        "performing bootstrapping for errorbars (conditions)"
       ]
      },
      {
       "output_type": "stream",
       "stream": "stdout",
       "text": [
        "\n",
        "performing bootstrapping for errorbars (conditions)"
       ]
      },
      {
       "output_type": "stream",
       "stream": "stdout",
       "text": [
        "\n",
        "performing bootstrapping for errorbars (conditions)"
       ]
      },
      {
       "output_type": "stream",
       "stream": "stdout",
       "text": [
        "\n",
        "performing bootstrapping for errorbars (conditions)"
       ]
      },
      {
       "output_type": "stream",
       "stream": "stdout",
       "text": [
        "\n"
       ]
      }
     ],
     "prompt_number": 17
    },
    {
     "cell_type": "code",
     "collapsed": false,
     "input": [
      "for roiobj in roi_summaries.values():\n",
      "    filename='ResultsSummary_%s.pkl' %(roiobj.roi)\n",
      "    roiobj.save(analdir, filename)"
     ],
     "language": "python",
     "metadata": {},
     "outputs": [],
     "prompt_number": 18
    },
    {
     "cell_type": "code",
     "collapsed": false,
     "input": [
      "%autoreload\n",
      "windowdur=2\n",
      "tcrange=(0,12)\n",
      "tcobjs=rsaf.timecourseanalysis(e, conditions, windowdur, tcrange, roilist, subjlist, configspec=configspec, analdir=analdir, modelkeys=modelkeys, modelRDMs=modelRDMs, disc=disc, savetag=savetag, runindsubjects=runtc)\n",
      "mum.picklethisobject(os.path.join(analdir, 'timecourse', 'tcobjs.pkl'), tcobjs)"
     ],
     "language": "python",
     "metadata": {},
     "outputs": [
      {
       "output_type": "stream",
       "stream": "stdout",
       "text": [
        "working on timepoint 0\n",
        "RTPJ_tomloc"
       ]
      },
      {
       "output_type": "stream",
       "stream": "stdout",
       "text": [
        "\n",
        "loading existing individual subject neural RDMs and computing model correlations\n",
        "finished allemos, evenodd, RTPJ_tomloc"
       ]
      },
      {
       "output_type": "stream",
       "stream": "stdout",
       "text": [
        "\n",
        "LTPJ_tomloc\n",
        "loading existing individual subject neural RDMs and computing model correlations\n",
        "finished allemos, evenodd, LTPJ_tomloc"
       ]
      },
      {
       "output_type": "stream",
       "stream": "stdout",
       "text": [
        "\n",
        "RSTS_tomloc\n",
        "loading existing individual subject neural RDMs and computing model correlations\n",
        "finished allemos, evenodd, RSTS_tomloc"
       ]
      },
      {
       "output_type": "stream",
       "stream": "stdout",
       "text": [
        "\n",
        "PC_tomloc\n",
        "loading existing individual subject neural RDMs and computing model correlations\n",
        "finished allemos, evenodd, PC_tomloc"
       ]
      },
      {
       "output_type": "stream",
       "stream": "stdout",
       "text": [
        "\n",
        "DMPFC_tomloc\n",
        "loading existing individual subject neural RDMs and computing model correlations\n",
        "finished allemos, evenodd, DMPFC_tomloc"
       ]
      },
      {
       "output_type": "stream",
       "stream": "stdout",
       "text": [
        "\n",
        "MMPFC_tomloc\n",
        "loading existing individual subject neural RDMs and computing model correlations\n",
        "finished allemos, evenodd, MMPFC_tomloc"
       ]
      },
      {
       "output_type": "stream",
       "stream": "stdout",
       "text": [
        "\n",
        "VMPFC_tomloc\n",
        "loading existing individual subject neural RDMs and computing model correlations\n",
        "finished allemos, evenodd, VMPFC_tomloc"
       ]
      },
      {
       "output_type": "stream",
       "stream": "stdout",
       "text": [
        "\n",
        "working on timepoint 1"
       ]
      },
      {
       "output_type": "stream",
       "stream": "stdout",
       "text": [
        "\n",
        "RTPJ_tomloc"
       ]
      },
      {
       "output_type": "stream",
       "stream": "stdout",
       "text": [
        "\n",
        "loading existing individual subject neural RDMs and computing model correlations\n",
        "finished allemos, evenodd, RTPJ_tomloc"
       ]
      },
      {
       "output_type": "stream",
       "stream": "stdout",
       "text": [
        "\n",
        "LTPJ_tomloc\n",
        "loading existing individual subject neural RDMs and computing model correlations\n",
        "finished allemos, evenodd, LTPJ_tomloc"
       ]
      },
      {
       "output_type": "stream",
       "stream": "stdout",
       "text": [
        "\n",
        "RSTS_tomloc\n",
        "loading existing individual subject neural RDMs and computing model correlations\n",
        "finished allemos, evenodd, RSTS_tomloc"
       ]
      },
      {
       "output_type": "stream",
       "stream": "stdout",
       "text": [
        "\n",
        "PC_tomloc\n",
        "loading existing individual subject neural RDMs and computing model correlations\n",
        "finished allemos, evenodd, PC_tomloc"
       ]
      },
      {
       "output_type": "stream",
       "stream": "stdout",
       "text": [
        "\n",
        "DMPFC_tomloc\n",
        "loading existing individual subject neural RDMs and computing model correlations\n",
        "finished allemos, evenodd, DMPFC_tomloc"
       ]
      },
      {
       "output_type": "stream",
       "stream": "stdout",
       "text": [
        "\n",
        "MMPFC_tomloc\n",
        "loading existing individual subject neural RDMs and computing model correlations\n",
        "finished allemos, evenodd, MMPFC_tomloc"
       ]
      },
      {
       "output_type": "stream",
       "stream": "stdout",
       "text": [
        "\n",
        "VMPFC_tomloc\n",
        "loading existing individual subject neural RDMs and computing model correlations\n",
        "finished allemos, evenodd, VMPFC_tomloc"
       ]
      },
      {
       "output_type": "stream",
       "stream": "stdout",
       "text": [
        "\n",
        "working on timepoint 2"
       ]
      },
      {
       "output_type": "stream",
       "stream": "stdout",
       "text": [
        "\n",
        "RTPJ_tomloc"
       ]
      },
      {
       "output_type": "stream",
       "stream": "stdout",
       "text": [
        "\n",
        "loading existing individual subject neural RDMs and computing model correlations\n",
        "finished allemos, evenodd, RTPJ_tomloc"
       ]
      },
      {
       "output_type": "stream",
       "stream": "stdout",
       "text": [
        "\n",
        "LTPJ_tomloc\n",
        "loading existing individual subject neural RDMs and computing model correlations\n",
        "finished allemos, evenodd, LTPJ_tomloc"
       ]
      },
      {
       "output_type": "stream",
       "stream": "stdout",
       "text": [
        "\n",
        "RSTS_tomloc\n",
        "loading existing individual subject neural RDMs and computing model correlations\n",
        "finished allemos, evenodd, RSTS_tomloc"
       ]
      },
      {
       "output_type": "stream",
       "stream": "stdout",
       "text": [
        "\n",
        "PC_tomloc\n",
        "loading existing individual subject neural RDMs and computing model correlations\n",
        "finished allemos, evenodd, PC_tomloc"
       ]
      },
      {
       "output_type": "stream",
       "stream": "stdout",
       "text": [
        "\n",
        "DMPFC_tomloc\n",
        "loading existing individual subject neural RDMs and computing model correlations\n",
        "finished allemos, evenodd, DMPFC_tomloc"
       ]
      },
      {
       "output_type": "stream",
       "stream": "stdout",
       "text": [
        "\n",
        "MMPFC_tomloc\n",
        "loading existing individual subject neural RDMs and computing model correlations\n",
        "finished allemos, evenodd, MMPFC_tomloc"
       ]
      },
      {
       "output_type": "stream",
       "stream": "stdout",
       "text": [
        "\n",
        "VMPFC_tomloc\n",
        "loading existing individual subject neural RDMs and computing model correlations\n",
        "finished allemos, evenodd, VMPFC_tomloc"
       ]
      },
      {
       "output_type": "stream",
       "stream": "stdout",
       "text": [
        "\n",
        "working on timepoint 3"
       ]
      },
      {
       "output_type": "stream",
       "stream": "stdout",
       "text": [
        "\n",
        "RTPJ_tomloc"
       ]
      },
      {
       "output_type": "stream",
       "stream": "stdout",
       "text": [
        "\n",
        "loading existing individual subject neural RDMs and computing model correlations\n",
        "finished allemos, evenodd, RTPJ_tomloc"
       ]
      },
      {
       "output_type": "stream",
       "stream": "stdout",
       "text": [
        "\n",
        "LTPJ_tomloc\n",
        "loading existing individual subject neural RDMs and computing model correlations\n",
        "finished allemos, evenodd, LTPJ_tomloc"
       ]
      },
      {
       "output_type": "stream",
       "stream": "stdout",
       "text": [
        "\n",
        "RSTS_tomloc\n",
        "loading existing individual subject neural RDMs and computing model correlations\n",
        "finished allemos, evenodd, RSTS_tomloc"
       ]
      },
      {
       "output_type": "stream",
       "stream": "stdout",
       "text": [
        "\n",
        "PC_tomloc\n",
        "loading existing individual subject neural RDMs and computing model correlations\n",
        "finished allemos, evenodd, PC_tomloc"
       ]
      },
      {
       "output_type": "stream",
       "stream": "stdout",
       "text": [
        "\n",
        "DMPFC_tomloc\n",
        "loading existing individual subject neural RDMs and computing model correlations\n",
        "finished allemos, evenodd, DMPFC_tomloc"
       ]
      },
      {
       "output_type": "stream",
       "stream": "stdout",
       "text": [
        "\n",
        "MMPFC_tomloc\n",
        "loading existing individual subject neural RDMs and computing model correlations\n",
        "finished allemos, evenodd, MMPFC_tomloc"
       ]
      },
      {
       "output_type": "stream",
       "stream": "stdout",
       "text": [
        "\n",
        "VMPFC_tomloc\n",
        "loading existing individual subject neural RDMs and computing model correlations\n",
        "finished allemos, evenodd, VMPFC_tomloc"
       ]
      },
      {
       "output_type": "stream",
       "stream": "stdout",
       "text": [
        "\n",
        "working on timepoint 4"
       ]
      },
      {
       "output_type": "stream",
       "stream": "stdout",
       "text": [
        "\n",
        "RTPJ_tomloc"
       ]
      },
      {
       "output_type": "stream",
       "stream": "stdout",
       "text": [
        "\n",
        "loading existing individual subject neural RDMs and computing model correlations\n",
        "finished allemos, evenodd, RTPJ_tomloc"
       ]
      },
      {
       "output_type": "stream",
       "stream": "stdout",
       "text": [
        "\n",
        "LTPJ_tomloc\n",
        "loading existing individual subject neural RDMs and computing model correlations\n",
        "finished allemos, evenodd, LTPJ_tomloc"
       ]
      },
      {
       "output_type": "stream",
       "stream": "stdout",
       "text": [
        "\n",
        "RSTS_tomloc\n",
        "loading existing individual subject neural RDMs and computing model correlations\n",
        "finished allemos, evenodd, RSTS_tomloc"
       ]
      },
      {
       "output_type": "stream",
       "stream": "stdout",
       "text": [
        "\n",
        "PC_tomloc\n",
        "loading existing individual subject neural RDMs and computing model correlations\n",
        "finished allemos, evenodd, PC_tomloc"
       ]
      },
      {
       "output_type": "stream",
       "stream": "stdout",
       "text": [
        "\n",
        "DMPFC_tomloc\n",
        "loading existing individual subject neural RDMs and computing model correlations\n",
        "finished allemos, evenodd, DMPFC_tomloc"
       ]
      },
      {
       "output_type": "stream",
       "stream": "stdout",
       "text": [
        "\n",
        "MMPFC_tomloc\n",
        "loading existing individual subject neural RDMs and computing model correlations\n",
        "finished allemos, evenodd, MMPFC_tomloc"
       ]
      },
      {
       "output_type": "stream",
       "stream": "stdout",
       "text": [
        "\n",
        "VMPFC_tomloc\n",
        "loading existing individual subject neural RDMs and computing model correlations\n",
        "finished allemos, evenodd, VMPFC_tomloc"
       ]
      },
      {
       "output_type": "stream",
       "stream": "stdout",
       "text": [
        "\n",
        "working on timepoint 5"
       ]
      },
      {
       "output_type": "stream",
       "stream": "stdout",
       "text": [
        "\n",
        "RTPJ_tomloc"
       ]
      },
      {
       "output_type": "stream",
       "stream": "stdout",
       "text": [
        "\n",
        "loading existing individual subject neural RDMs and computing model correlations\n",
        "finished allemos, evenodd, RTPJ_tomloc"
       ]
      },
      {
       "output_type": "stream",
       "stream": "stdout",
       "text": [
        "\n",
        "LTPJ_tomloc\n",
        "loading existing individual subject neural RDMs and computing model correlations\n",
        "finished allemos, evenodd, LTPJ_tomloc"
       ]
      },
      {
       "output_type": "stream",
       "stream": "stdout",
       "text": [
        "\n",
        "RSTS_tomloc\n",
        "loading existing individual subject neural RDMs and computing model correlations\n",
        "finished allemos, evenodd, RSTS_tomloc"
       ]
      },
      {
       "output_type": "stream",
       "stream": "stdout",
       "text": [
        "\n",
        "PC_tomloc\n",
        "loading existing individual subject neural RDMs and computing model correlations\n",
        "finished allemos, evenodd, PC_tomloc"
       ]
      },
      {
       "output_type": "stream",
       "stream": "stdout",
       "text": [
        "\n",
        "DMPFC_tomloc\n",
        "loading existing individual subject neural RDMs and computing model correlations\n",
        "finished allemos, evenodd, DMPFC_tomloc"
       ]
      },
      {
       "output_type": "stream",
       "stream": "stdout",
       "text": [
        "\n",
        "MMPFC_tomloc\n",
        "loading existing individual subject neural RDMs and computing model correlations\n",
        "finished allemos, evenodd, MMPFC_tomloc"
       ]
      },
      {
       "output_type": "stream",
       "stream": "stdout",
       "text": [
        "\n",
        "VMPFC_tomloc\n",
        "loading existing individual subject neural RDMs and computing model correlations\n",
        "finished allemos, evenodd, VMPFC_tomloc"
       ]
      },
      {
       "output_type": "stream",
       "stream": "stdout",
       "text": [
        "\n",
        "working on timepoint 6"
       ]
      },
      {
       "output_type": "stream",
       "stream": "stdout",
       "text": [
        "\n",
        "RTPJ_tomloc"
       ]
      },
      {
       "output_type": "stream",
       "stream": "stdout",
       "text": [
        "\n",
        "loading existing individual subject neural RDMs and computing model correlations\n",
        "finished allemos, evenodd, RTPJ_tomloc"
       ]
      },
      {
       "output_type": "stream",
       "stream": "stdout",
       "text": [
        "\n",
        "LTPJ_tomloc\n",
        "loading existing individual subject neural RDMs and computing model correlations\n",
        "finished allemos, evenodd, LTPJ_tomloc"
       ]
      },
      {
       "output_type": "stream",
       "stream": "stdout",
       "text": [
        "\n",
        "RSTS_tomloc\n",
        "loading existing individual subject neural RDMs and computing model correlations\n",
        "finished allemos, evenodd, RSTS_tomloc"
       ]
      },
      {
       "output_type": "stream",
       "stream": "stdout",
       "text": [
        "\n",
        "PC_tomloc\n",
        "loading existing individual subject neural RDMs and computing model correlations\n",
        "finished allemos, evenodd, PC_tomloc"
       ]
      },
      {
       "output_type": "stream",
       "stream": "stdout",
       "text": [
        "\n",
        "DMPFC_tomloc\n",
        "loading existing individual subject neural RDMs and computing model correlations\n",
        "finished allemos, evenodd, DMPFC_tomloc"
       ]
      },
      {
       "output_type": "stream",
       "stream": "stdout",
       "text": [
        "\n",
        "MMPFC_tomloc\n",
        "loading existing individual subject neural RDMs and computing model correlations\n",
        "finished allemos, evenodd, MMPFC_tomloc"
       ]
      },
      {
       "output_type": "stream",
       "stream": "stdout",
       "text": [
        "\n",
        "VMPFC_tomloc\n",
        "loading existing individual subject neural RDMs and computing model correlations\n",
        "finished allemos, evenodd, VMPFC_tomloc"
       ]
      },
      {
       "output_type": "stream",
       "stream": "stdout",
       "text": [
        "\n",
        "working on timepoint 7"
       ]
      },
      {
       "output_type": "stream",
       "stream": "stdout",
       "text": [
        "\n",
        "RTPJ_tomloc"
       ]
      },
      {
       "output_type": "stream",
       "stream": "stdout",
       "text": [
        "\n",
        "loading existing individual subject neural RDMs and computing model correlations\n",
        "finished allemos, evenodd, RTPJ_tomloc"
       ]
      },
      {
       "output_type": "stream",
       "stream": "stdout",
       "text": [
        "\n",
        "LTPJ_tomloc\n",
        "loading existing individual subject neural RDMs and computing model correlations\n",
        "finished allemos, evenodd, LTPJ_tomloc"
       ]
      },
      {
       "output_type": "stream",
       "stream": "stdout",
       "text": [
        "\n",
        "RSTS_tomloc\n",
        "loading existing individual subject neural RDMs and computing model correlations\n",
        "finished allemos, evenodd, RSTS_tomloc"
       ]
      },
      {
       "output_type": "stream",
       "stream": "stdout",
       "text": [
        "\n",
        "PC_tomloc\n",
        "loading existing individual subject neural RDMs and computing model correlations\n",
        "finished allemos, evenodd, PC_tomloc"
       ]
      },
      {
       "output_type": "stream",
       "stream": "stdout",
       "text": [
        "\n",
        "DMPFC_tomloc\n",
        "loading existing individual subject neural RDMs and computing model correlations\n",
        "finished allemos, evenodd, DMPFC_tomloc"
       ]
      },
      {
       "output_type": "stream",
       "stream": "stdout",
       "text": [
        "\n",
        "MMPFC_tomloc\n",
        "loading existing individual subject neural RDMs and computing model correlations\n",
        "finished allemos, evenodd, MMPFC_tomloc"
       ]
      },
      {
       "output_type": "stream",
       "stream": "stdout",
       "text": [
        "\n",
        "VMPFC_tomloc\n",
        "loading existing individual subject neural RDMs and computing model correlations\n",
        "finished allemos, evenodd, VMPFC_tomloc"
       ]
      },
      {
       "output_type": "stream",
       "stream": "stdout",
       "text": [
        "\n",
        "working on timepoint 8"
       ]
      },
      {
       "output_type": "stream",
       "stream": "stdout",
       "text": [
        "\n",
        "RTPJ_tomloc"
       ]
      },
      {
       "output_type": "stream",
       "stream": "stdout",
       "text": [
        "\n",
        "loading existing individual subject neural RDMs and computing model correlations\n",
        "finished allemos, evenodd, RTPJ_tomloc"
       ]
      },
      {
       "output_type": "stream",
       "stream": "stdout",
       "text": [
        "\n",
        "LTPJ_tomloc\n",
        "loading existing individual subject neural RDMs and computing model correlations\n",
        "finished allemos, evenodd, LTPJ_tomloc"
       ]
      },
      {
       "output_type": "stream",
       "stream": "stdout",
       "text": [
        "\n",
        "RSTS_tomloc\n",
        "loading existing individual subject neural RDMs and computing model correlations\n",
        "finished allemos, evenodd, RSTS_tomloc"
       ]
      },
      {
       "output_type": "stream",
       "stream": "stdout",
       "text": [
        "\n",
        "PC_tomloc\n",
        "loading existing individual subject neural RDMs and computing model correlations\n",
        "finished allemos, evenodd, PC_tomloc"
       ]
      },
      {
       "output_type": "stream",
       "stream": "stdout",
       "text": [
        "\n",
        "DMPFC_tomloc\n",
        "loading existing individual subject neural RDMs and computing model correlations\n",
        "finished allemos, evenodd, DMPFC_tomloc"
       ]
      },
      {
       "output_type": "stream",
       "stream": "stdout",
       "text": [
        "\n",
        "MMPFC_tomloc\n",
        "loading existing individual subject neural RDMs and computing model correlations\n",
        "finished allemos, evenodd, MMPFC_tomloc"
       ]
      },
      {
       "output_type": "stream",
       "stream": "stdout",
       "text": [
        "\n",
        "VMPFC_tomloc\n",
        "loading existing individual subject neural RDMs and computing model correlations\n",
        "finished allemos, evenodd, VMPFC_tomloc"
       ]
      },
      {
       "output_type": "stream",
       "stream": "stdout",
       "text": [
        "\n",
        "working on timepoint 9"
       ]
      },
      {
       "output_type": "stream",
       "stream": "stdout",
       "text": [
        "\n",
        "RTPJ_tomloc"
       ]
      },
      {
       "output_type": "stream",
       "stream": "stdout",
       "text": [
        "\n",
        "loading existing individual subject neural RDMs and computing model correlations\n",
        "finished allemos, evenodd, RTPJ_tomloc"
       ]
      },
      {
       "output_type": "stream",
       "stream": "stdout",
       "text": [
        "\n",
        "LTPJ_tomloc\n",
        "loading existing individual subject neural RDMs and computing model correlations\n",
        "finished allemos, evenodd, LTPJ_tomloc"
       ]
      },
      {
       "output_type": "stream",
       "stream": "stdout",
       "text": [
        "\n",
        "RSTS_tomloc\n",
        "loading existing individual subject neural RDMs and computing model correlations\n",
        "finished allemos, evenodd, RSTS_tomloc"
       ]
      },
      {
       "output_type": "stream",
       "stream": "stdout",
       "text": [
        "\n",
        "PC_tomloc\n",
        "loading existing individual subject neural RDMs and computing model correlations\n",
        "finished allemos, evenodd, PC_tomloc"
       ]
      },
      {
       "output_type": "stream",
       "stream": "stdout",
       "text": [
        "\n",
        "DMPFC_tomloc\n",
        "loading existing individual subject neural RDMs and computing model correlations\n",
        "finished allemos, evenodd, DMPFC_tomloc"
       ]
      },
      {
       "output_type": "stream",
       "stream": "stdout",
       "text": [
        "\n",
        "MMPFC_tomloc\n",
        "loading existing individual subject neural RDMs and computing model correlations\n",
        "finished allemos, evenodd, MMPFC_tomloc"
       ]
      },
      {
       "output_type": "stream",
       "stream": "stdout",
       "text": [
        "\n",
        "VMPFC_tomloc\n",
        "loading existing individual subject neural RDMs and computing model correlations\n",
        "finished allemos, evenodd, VMPFC_tomloc"
       ]
      },
      {
       "output_type": "stream",
       "stream": "stdout",
       "text": [
        "\n",
        "working on timepoint 10"
       ]
      },
      {
       "output_type": "stream",
       "stream": "stdout",
       "text": [
        "\n",
        "RTPJ_tomloc"
       ]
      },
      {
       "output_type": "stream",
       "stream": "stdout",
       "text": [
        "\n",
        "loading existing individual subject neural RDMs and computing model correlations\n",
        "finished allemos, evenodd, RTPJ_tomloc"
       ]
      },
      {
       "output_type": "stream",
       "stream": "stdout",
       "text": [
        "\n",
        "LTPJ_tomloc\n",
        "loading existing individual subject neural RDMs and computing model correlations\n",
        "finished allemos, evenodd, LTPJ_tomloc"
       ]
      },
      {
       "output_type": "stream",
       "stream": "stdout",
       "text": [
        "\n",
        "RSTS_tomloc\n",
        "loading existing individual subject neural RDMs and computing model correlations\n",
        "finished allemos, evenodd, RSTS_tomloc"
       ]
      },
      {
       "output_type": "stream",
       "stream": "stdout",
       "text": [
        "\n",
        "PC_tomloc\n",
        "loading existing individual subject neural RDMs and computing model correlations\n",
        "finished allemos, evenodd, PC_tomloc"
       ]
      },
      {
       "output_type": "stream",
       "stream": "stdout",
       "text": [
        "\n",
        "DMPFC_tomloc\n",
        "loading existing individual subject neural RDMs and computing model correlations\n",
        "finished allemos, evenodd, DMPFC_tomloc"
       ]
      },
      {
       "output_type": "stream",
       "stream": "stdout",
       "text": [
        "\n",
        "MMPFC_tomloc\n",
        "loading existing individual subject neural RDMs and computing model correlations\n",
        "finished allemos, evenodd, MMPFC_tomloc"
       ]
      },
      {
       "output_type": "stream",
       "stream": "stdout",
       "text": [
        "\n",
        "VMPFC_tomloc\n",
        "loading existing individual subject neural RDMs and computing model correlations\n",
        "finished allemos, evenodd, VMPFC_tomloc"
       ]
      },
      {
       "output_type": "stream",
       "stream": "stdout",
       "text": [
        "\n",
        "working on timepoint 11"
       ]
      },
      {
       "output_type": "stream",
       "stream": "stdout",
       "text": [
        "\n",
        "RTPJ_tomloc"
       ]
      },
      {
       "output_type": "stream",
       "stream": "stdout",
       "text": [
        "\n",
        "loading existing individual subject neural RDMs and computing model correlations\n",
        "finished allemos, evenodd, RTPJ_tomloc"
       ]
      },
      {
       "output_type": "stream",
       "stream": "stdout",
       "text": [
        "\n",
        "LTPJ_tomloc\n",
        "loading existing individual subject neural RDMs and computing model correlations\n",
        "finished allemos, evenodd, LTPJ_tomloc"
       ]
      },
      {
       "output_type": "stream",
       "stream": "stdout",
       "text": [
        "\n",
        "RSTS_tomloc\n",
        "loading existing individual subject neural RDMs and computing model correlations\n",
        "finished allemos, evenodd, RSTS_tomloc"
       ]
      },
      {
       "output_type": "stream",
       "stream": "stdout",
       "text": [
        "\n",
        "PC_tomloc\n",
        "loading existing individual subject neural RDMs and computing model correlations\n",
        "finished allemos, evenodd, PC_tomloc"
       ]
      },
      {
       "output_type": "stream",
       "stream": "stdout",
       "text": [
        "\n",
        "DMPFC_tomloc\n",
        "loading existing individual subject neural RDMs and computing model correlations\n",
        "finished allemos, evenodd, DMPFC_tomloc"
       ]
      },
      {
       "output_type": "stream",
       "stream": "stdout",
       "text": [
        "\n",
        "MMPFC_tomloc\n",
        "loading existing individual subject neural RDMs and computing model correlations\n",
        "finished allemos, evenodd, MMPFC_tomloc"
       ]
      },
      {
       "output_type": "stream",
       "stream": "stdout",
       "text": [
        "\n",
        "VMPFC_tomloc\n",
        "loading existing individual subject neural RDMs and computing model correlations\n",
        "finished allemos, evenodd, VMPFC_tomloc"
       ]
      },
      {
       "output_type": "stream",
       "stream": "stdout",
       "text": [
        "\n"
       ]
      }
     ],
     "prompt_number": 19
    },
    {
     "cell_type": "raw",
     "metadata": {},
     "source": [
      "#to deal with classes getting out of date\n",
      "newtcobjs=mum.updateobj(tcobjs, rsaf.TimecourseRSA, [],[windowdur, tcrange])\n",
      "newroi_summaries=mum.updateobj(roi_summaries, rsaf.ROIsummary, ['roi'], [modelkeys, configspec['mflag']])"
     ]
    },
    {
     "cell_type": "code",
     "collapsed": false,
     "input": [],
     "language": "python",
     "metadata": {},
     "outputs": [],
     "prompt_number": 19
    },
    {
     "cell_type": "code",
     "collapsed": false,
     "input": [],
     "language": "python",
     "metadata": {},
     "outputs": []
    }
   ],
   "metadata": {}
  }
 ]
}